{
 "cells": [
  {
   "cell_type": "markdown",
   "id": "8c1fcd70",
   "metadata": {},
   "source": [
    "# Problem in hand :\n",
    "\n",
    "###   Diabetic retinopathy prediction in patients \n",
    "\n",
    "#### Business Objective:\n",
    "The variable to be predicted has two values (positive or negative on diabetic retinopathy). Thus, this is a binary classification project. The goal here is to predict whether a patient will suffer from diabetic retinopathy or not, conditioned on blood test features.\n"
   ]
  },
  {
   "cell_type": "code",
   "execution_count": 27,
   "id": "ed1b90ca",
   "metadata": {},
   "outputs": [],
   "source": [
    "from __future__ import print_function\n",
    "import pandas as pd\n",
    "import numpy as np\n",
    "import matplotlib.pyplot as plt\n",
    "import seaborn as sns\n",
    "from sklearn.metrics import classification_report\n",
    "from sklearn import metrics\n",
    "from sklearn import tree\n",
    "import warnings\n",
    "warnings.filterwarnings('ignore')"
   ]
  },
  {
   "cell_type": "markdown",
   "id": "5207e4e4",
   "metadata": {},
   "source": [
    "### importing the dataset here we have dropped the index column "
   ]
  },
  {
   "cell_type": "code",
   "execution_count": 99,
   "id": "47749ae7",
   "metadata": {},
   "outputs": [
    {
     "data": {
      "text/html": [
       "<div>\n",
       "<style scoped>\n",
       "    .dataframe tbody tr th:only-of-type {\n",
       "        vertical-align: middle;\n",
       "    }\n",
       "\n",
       "    .dataframe tbody tr th {\n",
       "        vertical-align: top;\n",
       "    }\n",
       "\n",
       "    .dataframe thead th {\n",
       "        text-align: right;\n",
       "    }\n",
       "</style>\n",
       "<table border=\"1\" class=\"dataframe\">\n",
       "  <thead>\n",
       "    <tr style=\"text-align: right;\">\n",
       "      <th></th>\n",
       "      <th>age</th>\n",
       "      <th>systolic_bp</th>\n",
       "      <th>diastolic_bp</th>\n",
       "      <th>cholesterol</th>\n",
       "      <th>prognosis</th>\n",
       "    </tr>\n",
       "    <tr>\n",
       "      <th>ID</th>\n",
       "      <th></th>\n",
       "      <th></th>\n",
       "      <th></th>\n",
       "      <th></th>\n",
       "      <th></th>\n",
       "    </tr>\n",
       "  </thead>\n",
       "  <tbody>\n",
       "    <tr>\n",
       "      <th>0</th>\n",
       "      <td>77.196340</td>\n",
       "      <td>85.288742</td>\n",
       "      <td>80.021878</td>\n",
       "      <td>79.957109</td>\n",
       "      <td>retinopathy</td>\n",
       "    </tr>\n",
       "    <tr>\n",
       "      <th>1</th>\n",
       "      <td>63.529850</td>\n",
       "      <td>99.379736</td>\n",
       "      <td>84.852361</td>\n",
       "      <td>110.382411</td>\n",
       "      <td>retinopathy</td>\n",
       "    </tr>\n",
       "    <tr>\n",
       "      <th>2</th>\n",
       "      <td>69.003986</td>\n",
       "      <td>111.349455</td>\n",
       "      <td>109.850616</td>\n",
       "      <td>100.828246</td>\n",
       "      <td>retinopathy</td>\n",
       "    </tr>\n",
       "    <tr>\n",
       "      <th>3</th>\n",
       "      <td>82.638210</td>\n",
       "      <td>95.056128</td>\n",
       "      <td>79.666851</td>\n",
       "      <td>87.066303</td>\n",
       "      <td>retinopathy</td>\n",
       "    </tr>\n",
       "    <tr>\n",
       "      <th>4</th>\n",
       "      <td>78.346286</td>\n",
       "      <td>109.154591</td>\n",
       "      <td>90.713220</td>\n",
       "      <td>92.511770</td>\n",
       "      <td>retinopathy</td>\n",
       "    </tr>\n",
       "  </tbody>\n",
       "</table>\n",
       "</div>"
      ],
      "text/plain": [
       "          age  systolic_bp  diastolic_bp  cholesterol    prognosis\n",
       "ID                                                                \n",
       "0   77.196340    85.288742     80.021878    79.957109  retinopathy\n",
       "1   63.529850    99.379736     84.852361   110.382411  retinopathy\n",
       "2   69.003986   111.349455    109.850616   100.828246  retinopathy\n",
       "3   82.638210    95.056128     79.666851    87.066303  retinopathy\n",
       "4   78.346286   109.154591     90.713220    92.511770  retinopathy"
      ]
     },
     "execution_count": 99,
     "metadata": {},
     "output_type": "execute_result"
    }
   ],
   "source": [
    "data = pd.read_csv(\"pronostico_dataset.csv\",index_col=0)\n",
    "data.head()"
   ]
  },
  {
   "cell_type": "markdown",
   "id": "7745c115",
   "metadata": {},
   "source": [
    "# Data Set Details:\n",
    "### Target variables has two values in a classification project type: 0 (false) or 1 (true). \n",
    "### The number of instances (rows) in the data set is 6000, and the number of variables (columns) is 6.\n",
    "### The following list summarizes the information of the variables\n",
    "#### 1)ID: Numeric\n",
    "#### 2)age: (numeric).\n",
    "#### 3)systolic_bp: (normal range: below 120mmHg). When the heart beats, it squeezes and pushes blood through the arteries to the rest of the body. This force creates pressure on the blood vessels, and that is the systolic blood pressure.\n",
    "#### 4)diastolic_bp: (normal range: lower than 80mmHg). It is the pressure in the arteries when the heart rests between beats. This is the time when the heart fills with blood and gets oxygen.\n",
    "#### 5)cholesterol: (normal range: between 125 and 200 mg/dl). It is a waxy, fat-like substance found in every cell in the body.\n",
    "#### 6)prognosis: (0 or 1) (Target). It is 1 if the patient has retinopathy and 0 if he doesn't.\n"
   ]
  },
  {
   "cell_type": "markdown",
   "id": "76ec77c9",
   "metadata": {},
   "source": [
    "# Exploratory Data Analysis:\n",
    " here we will do the complete EDA and draw some insights"
   ]
  },
  {
   "cell_type": "code",
   "execution_count": 100,
   "id": "9ab9e6d2",
   "metadata": {},
   "outputs": [
    {
     "data": {
      "text/html": [
       "<div>\n",
       "<style scoped>\n",
       "    .dataframe tbody tr th:only-of-type {\n",
       "        vertical-align: middle;\n",
       "    }\n",
       "\n",
       "    .dataframe tbody tr th {\n",
       "        vertical-align: top;\n",
       "    }\n",
       "\n",
       "    .dataframe thead th {\n",
       "        text-align: right;\n",
       "    }\n",
       "</style>\n",
       "<table border=\"1\" class=\"dataframe\">\n",
       "  <thead>\n",
       "    <tr style=\"text-align: right;\">\n",
       "      <th></th>\n",
       "      <th>age</th>\n",
       "      <th>systolic_bp</th>\n",
       "      <th>diastolic_bp</th>\n",
       "      <th>cholesterol</th>\n",
       "      <th>prognosis</th>\n",
       "    </tr>\n",
       "    <tr>\n",
       "      <th>ID</th>\n",
       "      <th></th>\n",
       "      <th></th>\n",
       "      <th></th>\n",
       "      <th></th>\n",
       "      <th></th>\n",
       "    </tr>\n",
       "  </thead>\n",
       "  <tbody>\n",
       "    <tr>\n",
       "      <th>0</th>\n",
       "      <td>77.196340</td>\n",
       "      <td>85.288742</td>\n",
       "      <td>80.021878</td>\n",
       "      <td>79.957109</td>\n",
       "      <td>retinopathy</td>\n",
       "    </tr>\n",
       "    <tr>\n",
       "      <th>1</th>\n",
       "      <td>63.529850</td>\n",
       "      <td>99.379736</td>\n",
       "      <td>84.852361</td>\n",
       "      <td>110.382411</td>\n",
       "      <td>retinopathy</td>\n",
       "    </tr>\n",
       "    <tr>\n",
       "      <th>2</th>\n",
       "      <td>69.003986</td>\n",
       "      <td>111.349455</td>\n",
       "      <td>109.850616</td>\n",
       "      <td>100.828246</td>\n",
       "      <td>retinopathy</td>\n",
       "    </tr>\n",
       "    <tr>\n",
       "      <th>3</th>\n",
       "      <td>82.638210</td>\n",
       "      <td>95.056128</td>\n",
       "      <td>79.666851</td>\n",
       "      <td>87.066303</td>\n",
       "      <td>retinopathy</td>\n",
       "    </tr>\n",
       "    <tr>\n",
       "      <th>4</th>\n",
       "      <td>78.346286</td>\n",
       "      <td>109.154591</td>\n",
       "      <td>90.713220</td>\n",
       "      <td>92.511770</td>\n",
       "      <td>retinopathy</td>\n",
       "    </tr>\n",
       "  </tbody>\n",
       "</table>\n",
       "</div>"
      ],
      "text/plain": [
       "          age  systolic_bp  diastolic_bp  cholesterol    prognosis\n",
       "ID                                                                \n",
       "0   77.196340    85.288742     80.021878    79.957109  retinopathy\n",
       "1   63.529850    99.379736     84.852361   110.382411  retinopathy\n",
       "2   69.003986   111.349455    109.850616   100.828246  retinopathy\n",
       "3   82.638210    95.056128     79.666851    87.066303  retinopathy\n",
       "4   78.346286   109.154591     90.713220    92.511770  retinopathy"
      ]
     },
     "execution_count": 100,
     "metadata": {},
     "output_type": "execute_result"
    }
   ],
   "source": [
    "# at first we will create the copy of the dataset to keep orignal dataset beside from our analysis\n",
    "d_data = data.copy()\n",
    "d_data.head()"
   ]
  },
  {
   "cell_type": "code",
   "execution_count": 101,
   "id": "1765510c",
   "metadata": {},
   "outputs": [
    {
     "data": {
      "text/html": [
       "<div>\n",
       "<style scoped>\n",
       "    .dataframe tbody tr th:only-of-type {\n",
       "        vertical-align: middle;\n",
       "    }\n",
       "\n",
       "    .dataframe tbody tr th {\n",
       "        vertical-align: top;\n",
       "    }\n",
       "\n",
       "    .dataframe thead th {\n",
       "        text-align: right;\n",
       "    }\n",
       "</style>\n",
       "<table border=\"1\" class=\"dataframe\">\n",
       "  <thead>\n",
       "    <tr style=\"text-align: right;\">\n",
       "      <th></th>\n",
       "      <th>age</th>\n",
       "      <th>systolic_bp</th>\n",
       "      <th>diastolic_bp</th>\n",
       "      <th>cholesterol</th>\n",
       "      <th>prognosis</th>\n",
       "    </tr>\n",
       "    <tr>\n",
       "      <th>ID</th>\n",
       "      <th></th>\n",
       "      <th></th>\n",
       "      <th></th>\n",
       "      <th></th>\n",
       "      <th></th>\n",
       "    </tr>\n",
       "  </thead>\n",
       "  <tbody>\n",
       "    <tr>\n",
       "      <th>5995</th>\n",
       "      <td>49.611850</td>\n",
       "      <td>94.857639</td>\n",
       "      <td>86.615671</td>\n",
       "      <td>107.643986</td>\n",
       "      <td>no_retinopathy</td>\n",
       "    </tr>\n",
       "    <tr>\n",
       "      <th>5996</th>\n",
       "      <td>63.099686</td>\n",
       "      <td>100.039527</td>\n",
       "      <td>93.515186</td>\n",
       "      <td>104.971404</td>\n",
       "      <td>retinopathy</td>\n",
       "    </tr>\n",
       "    <tr>\n",
       "      <th>5997</th>\n",
       "      <td>55.562243</td>\n",
       "      <td>98.421446</td>\n",
       "      <td>102.697875</td>\n",
       "      <td>120.875951</td>\n",
       "      <td>retinopathy</td>\n",
       "    </tr>\n",
       "    <tr>\n",
       "      <th>5998</th>\n",
       "      <td>63.468956</td>\n",
       "      <td>106.809289</td>\n",
       "      <td>88.060631</td>\n",
       "      <td>106.052213</td>\n",
       "      <td>retinopathy</td>\n",
       "    </tr>\n",
       "    <tr>\n",
       "      <th>5999</th>\n",
       "      <td>62.506825</td>\n",
       "      <td>96.900784</td>\n",
       "      <td>86.878033</td>\n",
       "      <td>108.625436</td>\n",
       "      <td>no_retinopathy</td>\n",
       "    </tr>\n",
       "  </tbody>\n",
       "</table>\n",
       "</div>"
      ],
      "text/plain": [
       "            age  systolic_bp  diastolic_bp  cholesterol       prognosis\n",
       "ID                                                                     \n",
       "5995  49.611850    94.857639     86.615671   107.643986  no_retinopathy\n",
       "5996  63.099686   100.039527     93.515186   104.971404     retinopathy\n",
       "5997  55.562243    98.421446    102.697875   120.875951     retinopathy\n",
       "5998  63.468956   106.809289     88.060631   106.052213     retinopathy\n",
       "5999  62.506825    96.900784     86.878033   108.625436  no_retinopathy"
      ]
     },
     "execution_count": 101,
     "metadata": {},
     "output_type": "execute_result"
    }
   ],
   "source": [
    "d_data.tail()"
   ]
  },
  {
   "cell_type": "code",
   "execution_count": 102,
   "id": "b9593643",
   "metadata": {},
   "outputs": [
    {
     "name": "stdout",
     "output_type": "stream",
     "text": [
      "data set colums are : Index(['age', 'systolic_bp', 'diastolic_bp', 'cholesterol', 'prognosis'], dtype='object')\n"
     ]
    }
   ],
   "source": [
    "print(f\"data set colums are : {d_data.columns}\")\n"
   ]
  },
  {
   "cell_type": "code",
   "execution_count": 103,
   "id": "fbb55d53",
   "metadata": {},
   "outputs": [
    {
     "data": {
      "text/plain": [
       "age             float64\n",
       "systolic_bp     float64\n",
       "diastolic_bp    float64\n",
       "cholesterol     float64\n",
       "prognosis        object\n",
       "dtype: object"
      ]
     },
     "execution_count": 103,
     "metadata": {},
     "output_type": "execute_result"
    }
   ],
   "source": [
    "data.dtypes"
   ]
  },
  {
   "cell_type": "code",
   "execution_count": 104,
   "id": "39f8c271",
   "metadata": {},
   "outputs": [
    {
     "data": {
      "text/html": [
       "<div>\n",
       "<style scoped>\n",
       "    .dataframe tbody tr th:only-of-type {\n",
       "        vertical-align: middle;\n",
       "    }\n",
       "\n",
       "    .dataframe tbody tr th {\n",
       "        vertical-align: top;\n",
       "    }\n",
       "\n",
       "    .dataframe thead th {\n",
       "        text-align: right;\n",
       "    }\n",
       "</style>\n",
       "<table border=\"1\" class=\"dataframe\">\n",
       "  <thead>\n",
       "    <tr style=\"text-align: right;\">\n",
       "      <th></th>\n",
       "      <th>age</th>\n",
       "      <th>systolic_bp</th>\n",
       "      <th>diastolic_bp</th>\n",
       "      <th>cholesterol</th>\n",
       "    </tr>\n",
       "  </thead>\n",
       "  <tbody>\n",
       "    <tr>\n",
       "      <th>count</th>\n",
       "      <td>6000.000000</td>\n",
       "      <td>6000.000000</td>\n",
       "      <td>6000.000000</td>\n",
       "      <td>6000.000000</td>\n",
       "    </tr>\n",
       "    <tr>\n",
       "      <th>mean</th>\n",
       "      <td>60.464121</td>\n",
       "      <td>100.694822</td>\n",
       "      <td>90.505547</td>\n",
       "      <td>100.628255</td>\n",
       "    </tr>\n",
       "    <tr>\n",
       "      <th>std</th>\n",
       "      <td>8.564392</td>\n",
       "      <td>10.669267</td>\n",
       "      <td>9.648200</td>\n",
       "      <td>10.433915</td>\n",
       "    </tr>\n",
       "    <tr>\n",
       "      <th>min</th>\n",
       "      <td>35.164761</td>\n",
       "      <td>69.675429</td>\n",
       "      <td>62.807105</td>\n",
       "      <td>69.967453</td>\n",
       "    </tr>\n",
       "    <tr>\n",
       "      <th>25%</th>\n",
       "      <td>54.371941</td>\n",
       "      <td>93.267420</td>\n",
       "      <td>83.641788</td>\n",
       "      <td>93.202373</td>\n",
       "    </tr>\n",
       "    <tr>\n",
       "      <th>50%</th>\n",
       "      <td>59.831159</td>\n",
       "      <td>100.119926</td>\n",
       "      <td>89.912429</td>\n",
       "      <td>100.060637</td>\n",
       "    </tr>\n",
       "    <tr>\n",
       "      <th>75%</th>\n",
       "      <td>65.809652</td>\n",
       "      <td>107.439501</td>\n",
       "      <td>96.682405</td>\n",
       "      <td>107.250829</td>\n",
       "    </tr>\n",
       "    <tr>\n",
       "      <th>max</th>\n",
       "      <td>103.279497</td>\n",
       "      <td>151.699660</td>\n",
       "      <td>133.456382</td>\n",
       "      <td>148.233544</td>\n",
       "    </tr>\n",
       "  </tbody>\n",
       "</table>\n",
       "</div>"
      ],
      "text/plain": [
       "               age  systolic_bp  diastolic_bp  cholesterol\n",
       "count  6000.000000  6000.000000   6000.000000  6000.000000\n",
       "mean     60.464121   100.694822     90.505547   100.628255\n",
       "std       8.564392    10.669267      9.648200    10.433915\n",
       "min      35.164761    69.675429     62.807105    69.967453\n",
       "25%      54.371941    93.267420     83.641788    93.202373\n",
       "50%      59.831159   100.119926     89.912429   100.060637\n",
       "75%      65.809652   107.439501     96.682405   107.250829\n",
       "max     103.279497   151.699660    133.456382   148.233544"
      ]
     },
     "execution_count": 104,
     "metadata": {},
     "output_type": "execute_result"
    }
   ],
   "source": [
    "d_data.describe()"
   ]
  },
  {
   "cell_type": "markdown",
   "id": "c0d1b4ad",
   "metadata": {},
   "source": [
    "### From above description of the datset we can draw some insights which are as follows:\n",
    "#### age) in the age column the maximum age is 103 and the minimum age is 35 "
   ]
  },
  {
   "cell_type": "markdown",
   "id": "e4ea29fe",
   "metadata": {},
   "source": [
    "now we will type cast the columns if the types are misleading"
   ]
  },
  {
   "cell_type": "code",
   "execution_count": 105,
   "id": "e34e2e71",
   "metadata": {},
   "outputs": [
    {
     "name": "stdout",
     "output_type": "stream",
     "text": [
      "<class 'pandas.core.frame.DataFrame'>\n",
      "Int64Index: 6000 entries, 0 to 5999\n",
      "Data columns (total 5 columns):\n",
      " #   Column        Non-Null Count  Dtype  \n",
      "---  ------        --------------  -----  \n",
      " 0   age           6000 non-null   float64\n",
      " 1   systolic_bp   6000 non-null   float64\n",
      " 2   diastolic_bp  6000 non-null   float64\n",
      " 3   cholesterol   6000 non-null   float64\n",
      " 4   prognosis     6000 non-null   object \n",
      "dtypes: float64(4), object(1)\n",
      "memory usage: 281.2+ KB\n"
     ]
    }
   ],
   "source": [
    "d_data.info()"
   ]
  },
  {
   "cell_type": "markdown",
   "id": "10fbc61c",
   "metadata": {},
   "source": [
    "here we can see only the age column is of float datatype we will convert it to int datatype using type casting"
   ]
  },
  {
   "cell_type": "code",
   "execution_count": 38,
   "id": "f9cd56ab",
   "metadata": {},
   "outputs": [],
   "source": [
    "d_data['age'] = d_data['age'].astype(int)"
   ]
  },
  {
   "cell_type": "code",
   "execution_count": 106,
   "id": "9205d651",
   "metadata": {},
   "outputs": [
    {
     "data": {
      "text/plain": [
       "age             float64\n",
       "systolic_bp     float64\n",
       "diastolic_bp    float64\n",
       "cholesterol     float64\n",
       "prognosis        object\n",
       "dtype: object"
      ]
     },
     "execution_count": 106,
     "metadata": {},
     "output_type": "execute_result"
    }
   ],
   "source": [
    "d_data.dtypes"
   ]
  },
  {
   "cell_type": "markdown",
   "id": "5c8e39d1",
   "metadata": {},
   "source": [
    "# missing values or null vlaues "
   ]
  },
  {
   "cell_type": "code",
   "execution_count": 107,
   "id": "fde68db2",
   "metadata": {},
   "outputs": [
    {
     "data": {
      "text/plain": [
       "age             0\n",
       "systolic_bp     0\n",
       "diastolic_bp    0\n",
       "cholesterol     0\n",
       "prognosis       0\n",
       "dtype: int64"
      ]
     },
     "execution_count": 107,
     "metadata": {},
     "output_type": "execute_result"
    }
   ],
   "source": [
    "d_data.isnull().sum()"
   ]
  },
  {
   "cell_type": "markdown",
   "id": "eb1e2f0d",
   "metadata": {},
   "source": [
    "data set has no null values so no need of missing values imputation"
   ]
  },
  {
   "cell_type": "code",
   "execution_count": 108,
   "id": "849816dc",
   "metadata": {},
   "outputs": [
    {
     "data": {
      "image/png": "[encoded data removed]",
      "text/plain": [
       "<Figure size 720x360 with 2 Axes>"
      ]
     },
     "metadata": {},
     "output_type": "display_data"
    }
   ],
   "source": [
    "plt.figure(figsize = (10,5))\n",
    "sns.heatmap(d_data.isnull(),cmap='gnuplot')\n",
    "plt.title('null values in the dataset ')\n",
    "plt.show()"
   ]
  },
  {
   "cell_type": "markdown",
   "id": "44765296",
   "metadata": {},
   "source": [
    "from heatmap also we can see there are no null values are present inthe dataset"
   ]
  },
  {
   "cell_type": "markdown",
   "id": "7592779b",
   "metadata": {},
   "source": [
    "### As we know we have only one catogorcal variableis in the dataset which is our taret variable"
   ]
  },
  {
   "cell_type": "code",
   "execution_count": 109,
   "id": "ca293ef3",
   "metadata": {},
   "outputs": [
    {
     "data": {
      "text/plain": [
       "retinopathy       3087\n",
       "no_retinopathy    2913\n",
       "Name: prognosis, dtype: int64"
      ]
     },
     "execution_count": 109,
     "metadata": {},
     "output_type": "execute_result"
    }
   ],
   "source": [
    "d_data.prognosis.value_counts()"
   ]
  },
  {
   "cell_type": "markdown",
   "id": "533f9ce3",
   "metadata": {},
   "source": [
    "from above observation we can say our data is not imbalenced"
   ]
  },
  {
   "cell_type": "markdown",
   "id": "e710007e",
   "metadata": {},
   "source": [
    "## Outliers detection"
   ]
  },
  {
   "cell_type": "code",
   "execution_count": 110,
   "id": "9c3df25e",
   "metadata": {},
   "outputs": [],
   "source": [
    "plt.style.use('ggplot')"
   ]
  },
  {
   "cell_type": "code",
   "execution_count": 111,
   "id": "caecf206",
   "metadata": {},
   "outputs": [
    {
     "data": {
      "image/png": "[encoded data removed]",
      "text/plain": [
       "<Figure size 720x576 with 4 Axes>"
      ]
     },
     "metadata": {},
     "output_type": "display_data"
    }
   ],
   "source": [
    "continous_list = ['age', 'systolic_bp', 'diastolic_bp','cholesterol']\n",
    "plt.figure(figsize=(10,8))\n",
    "\n",
    "plt.subplot(2,2,1)\n",
    "sns.boxplot(y = d_data['age'],color='darkturquoise')\n",
    "plt.title('boxplot for age')\n",
    "\n",
    "plt.subplot(2,2,2)\n",
    "sns.boxplot(y = d_data['systolic_bp'],color='tomato')\n",
    "plt.title('box plot for systolic_bp')\n",
    "\n",
    "plt.subplot(2,2,3)\n",
    "sns.boxplot(y = d_data['cholesterol'],color = 'lightblue')\n",
    "plt.title('boxplot for cholestrol')\n",
    "\n",
    "plt.subplot(2,2,4)\n",
    "sns.boxplot(y = d_data['diastolic_bp'],color = 'grey')\n",
    "plt.title('boxplt for diastolic_bp')\n",
    "\n",
    "plt.tight_layout(pad = 4)\n",
    "plt.show()"
   ]
  },
  {
   "cell_type": "markdown",
   "id": "5c1ef704",
   "metadata": {},
   "source": [
    "from the above boxplots we can see outliers are in all the continous columns we will treat them when we will be doing outlier treatment "
   ]
  },
  {
   "cell_type": "code",
   "execution_count": 112,
   "id": "8bec7009",
   "metadata": {},
   "outputs": [
    {
     "data": {
      "image/png": "[encoded data removed]",
      "text/plain": [
       "<Figure size 1296x648 with 4 Axes>"
      ]
     },
     "metadata": {},
     "output_type": "display_data"
    }
   ],
   "source": [
    "\n",
    "color_list = ['plum', 'cornflowerblue', 'mediumspringgreen','lightblue']\n",
    "plt.figure(figsize = (18, 9))\n",
    "plt.suptitle(\"Distribution Plots of continous features:\", fontsize=16)\n",
    "for i in range(0, len(continous_list)):\n",
    "    plt.subplot(2, 3, i+1)\n",
    "    sns.distplot(d_data[continous_list[i]], color = color_list[i])"
   ]
  },
  {
   "cell_type": "markdown",
   "id": "50c7db57",
   "metadata": {},
   "source": [
    "from above observations we can see the data is noramlly distributed hence no need to handel skewness also\n"
   ]
  },
  {
   "cell_type": "markdown",
   "id": "8d699929",
   "metadata": {},
   "source": [
    "## now we wil encode the catogorial variable which is prognosis using one hot encoding"
   ]
  },
  {
   "cell_type": "code",
   "execution_count": 116,
   "id": "e99a353d",
   "metadata": {},
   "outputs": [],
   "source": [
    "d_data['prognosis'] = d_data['prognosis'].map({'retinopathy': 1,'no_retinopathy':0})"
   ]
  },
  {
   "cell_type": "code",
   "execution_count": 117,
   "id": "2e150611",
   "metadata": {},
   "outputs": [
    {
     "data": {
      "text/html": [
       "<div>\n",
       "<style scoped>\n",
       "    .dataframe tbody tr th:only-of-type {\n",
       "        vertical-align: middle;\n",
       "    }\n",
       "\n",
       "    .dataframe tbody tr th {\n",
       "        vertical-align: top;\n",
       "    }\n",
       "\n",
       "    .dataframe thead th {\n",
       "        text-align: right;\n",
       "    }\n",
       "</style>\n",
       "<table border=\"1\" class=\"dataframe\">\n",
       "  <thead>\n",
       "    <tr style=\"text-align: right;\">\n",
       "      <th></th>\n",
       "      <th>age</th>\n",
       "      <th>systolic_bp</th>\n",
       "      <th>diastolic_bp</th>\n",
       "      <th>cholesterol</th>\n",
       "      <th>prognosis</th>\n",
       "    </tr>\n",
       "    <tr>\n",
       "      <th>ID</th>\n",
       "      <th></th>\n",
       "      <th></th>\n",
       "      <th></th>\n",
       "      <th></th>\n",
       "      <th></th>\n",
       "    </tr>\n",
       "  </thead>\n",
       "  <tbody>\n",
       "    <tr>\n",
       "      <th>0</th>\n",
       "      <td>77.196340</td>\n",
       "      <td>85.288742</td>\n",
       "      <td>80.021878</td>\n",
       "      <td>79.957109</td>\n",
       "      <td>1</td>\n",
       "    </tr>\n",
       "    <tr>\n",
       "      <th>1</th>\n",
       "      <td>63.529850</td>\n",
       "      <td>99.379736</td>\n",
       "      <td>84.852361</td>\n",
       "      <td>110.382411</td>\n",
       "      <td>1</td>\n",
       "    </tr>\n",
       "    <tr>\n",
       "      <th>2</th>\n",
       "      <td>69.003986</td>\n",
       "      <td>111.349455</td>\n",
       "      <td>109.850616</td>\n",
       "      <td>100.828246</td>\n",
       "      <td>1</td>\n",
       "    </tr>\n",
       "    <tr>\n",
       "      <th>3</th>\n",
       "      <td>82.638210</td>\n",
       "      <td>95.056128</td>\n",
       "      <td>79.666851</td>\n",
       "      <td>87.066303</td>\n",
       "      <td>1</td>\n",
       "    </tr>\n",
       "    <tr>\n",
       "      <th>4</th>\n",
       "      <td>78.346286</td>\n",
       "      <td>109.154591</td>\n",
       "      <td>90.713220</td>\n",
       "      <td>92.511770</td>\n",
       "      <td>1</td>\n",
       "    </tr>\n",
       "  </tbody>\n",
       "</table>\n",
       "</div>"
      ],
      "text/plain": [
       "          age  systolic_bp  diastolic_bp  cholesterol  prognosis\n",
       "ID                                                              \n",
       "0   77.196340    85.288742     80.021878    79.957109          1\n",
       "1   63.529850    99.379736     84.852361   110.382411          1\n",
       "2   69.003986   111.349455    109.850616   100.828246          1\n",
       "3   82.638210    95.056128     79.666851    87.066303          1\n",
       "4   78.346286   109.154591     90.713220    92.511770          1"
      ]
     },
     "execution_count": 117,
     "metadata": {},
     "output_type": "execute_result"
    }
   ],
   "source": [
    "d_data.head()"
   ]
  },
  {
   "cell_type": "code",
   "execution_count": 118,
   "id": "e2e1ec0f",
   "metadata": {},
   "outputs": [
    {
     "data": {
      "text/html": [
       "<div>\n",
       "<style scoped>\n",
       "    .dataframe tbody tr th:only-of-type {\n",
       "        vertical-align: middle;\n",
       "    }\n",
       "\n",
       "    .dataframe tbody tr th {\n",
       "        vertical-align: top;\n",
       "    }\n",
       "\n",
       "    .dataframe thead th {\n",
       "        text-align: right;\n",
       "    }\n",
       "</style>\n",
       "<table border=\"1\" class=\"dataframe\">\n",
       "  <thead>\n",
       "    <tr style=\"text-align: right;\">\n",
       "      <th></th>\n",
       "      <th>age</th>\n",
       "      <th>systolic_bp</th>\n",
       "      <th>diastolic_bp</th>\n",
       "      <th>cholesterol</th>\n",
       "      <th>prognosis</th>\n",
       "    </tr>\n",
       "    <tr>\n",
       "      <th>ID</th>\n",
       "      <th></th>\n",
       "      <th></th>\n",
       "      <th></th>\n",
       "      <th></th>\n",
       "      <th></th>\n",
       "    </tr>\n",
       "  </thead>\n",
       "  <tbody>\n",
       "    <tr>\n",
       "      <th>0</th>\n",
       "      <td>77.196340</td>\n",
       "      <td>85.288742</td>\n",
       "      <td>80.021878</td>\n",
       "      <td>79.957109</td>\n",
       "      <td>1</td>\n",
       "    </tr>\n",
       "    <tr>\n",
       "      <th>1</th>\n",
       "      <td>63.529850</td>\n",
       "      <td>99.379736</td>\n",
       "      <td>84.852361</td>\n",
       "      <td>110.382411</td>\n",
       "      <td>1</td>\n",
       "    </tr>\n",
       "    <tr>\n",
       "      <th>2</th>\n",
       "      <td>69.003986</td>\n",
       "      <td>111.349455</td>\n",
       "      <td>109.850616</td>\n",
       "      <td>100.828246</td>\n",
       "      <td>1</td>\n",
       "    </tr>\n",
       "    <tr>\n",
       "      <th>3</th>\n",
       "      <td>82.638210</td>\n",
       "      <td>95.056128</td>\n",
       "      <td>79.666851</td>\n",
       "      <td>87.066303</td>\n",
       "      <td>1</td>\n",
       "    </tr>\n",
       "    <tr>\n",
       "      <th>4</th>\n",
       "      <td>78.346286</td>\n",
       "      <td>109.154591</td>\n",
       "      <td>90.713220</td>\n",
       "      <td>92.511770</td>\n",
       "      <td>1</td>\n",
       "    </tr>\n",
       "    <tr>\n",
       "      <th>...</th>\n",
       "      <td>...</td>\n",
       "      <td>...</td>\n",
       "      <td>...</td>\n",
       "      <td>...</td>\n",
       "      <td>...</td>\n",
       "    </tr>\n",
       "    <tr>\n",
       "      <th>5991</th>\n",
       "      <td>59.903956</td>\n",
       "      <td>105.516534</td>\n",
       "      <td>99.069641</td>\n",
       "      <td>108.177934</td>\n",
       "      <td>1</td>\n",
       "    </tr>\n",
       "    <tr>\n",
       "      <th>5992</th>\n",
       "      <td>72.708129</td>\n",
       "      <td>115.105489</td>\n",
       "      <td>99.500383</td>\n",
       "      <td>126.590583</td>\n",
       "      <td>1</td>\n",
       "    </tr>\n",
       "    <tr>\n",
       "      <th>5996</th>\n",
       "      <td>63.099686</td>\n",
       "      <td>100.039527</td>\n",
       "      <td>93.515186</td>\n",
       "      <td>104.971404</td>\n",
       "      <td>1</td>\n",
       "    </tr>\n",
       "    <tr>\n",
       "      <th>5997</th>\n",
       "      <td>55.562243</td>\n",
       "      <td>98.421446</td>\n",
       "      <td>102.697875</td>\n",
       "      <td>120.875951</td>\n",
       "      <td>1</td>\n",
       "    </tr>\n",
       "    <tr>\n",
       "      <th>5998</th>\n",
       "      <td>63.468956</td>\n",
       "      <td>106.809289</td>\n",
       "      <td>88.060631</td>\n",
       "      <td>106.052213</td>\n",
       "      <td>1</td>\n",
       "    </tr>\n",
       "  </tbody>\n",
       "</table>\n",
       "<p>3087 rows × 5 columns</p>\n",
       "</div>"
      ],
      "text/plain": [
       "            age  systolic_bp  diastolic_bp  cholesterol  prognosis\n",
       "ID                                                                \n",
       "0     77.196340    85.288742     80.021878    79.957109          1\n",
       "1     63.529850    99.379736     84.852361   110.382411          1\n",
       "2     69.003986   111.349455    109.850616   100.828246          1\n",
       "3     82.638210    95.056128     79.666851    87.066303          1\n",
       "4     78.346286   109.154591     90.713220    92.511770          1\n",
       "...         ...          ...           ...          ...        ...\n",
       "5991  59.903956   105.516534     99.069641   108.177934          1\n",
       "5992  72.708129   115.105489     99.500383   126.590583          1\n",
       "5996  63.099686   100.039527     93.515186   104.971404          1\n",
       "5997  55.562243    98.421446    102.697875   120.875951          1\n",
       "5998  63.468956   106.809289     88.060631   106.052213          1\n",
       "\n",
       "[3087 rows x 5 columns]"
      ]
     },
     "execution_count": 118,
     "metadata": {},
     "output_type": "execute_result"
    }
   ],
   "source": [
    "d_data[d_data['prognosis']==1]"
   ]
  },
  {
   "cell_type": "code",
   "execution_count": 119,
   "id": "e876c382",
   "metadata": {},
   "outputs": [
    {
     "data": {
      "text/html": [
       "<div>\n",
       "<style scoped>\n",
       "    .dataframe tbody tr th:only-of-type {\n",
       "        vertical-align: middle;\n",
       "    }\n",
       "\n",
       "    .dataframe tbody tr th {\n",
       "        vertical-align: top;\n",
       "    }\n",
       "\n",
       "    .dataframe thead th {\n",
       "        text-align: right;\n",
       "    }\n",
       "</style>\n",
       "<table border=\"1\" class=\"dataframe\">\n",
       "  <thead>\n",
       "    <tr style=\"text-align: right;\">\n",
       "      <th></th>\n",
       "      <th>age</th>\n",
       "      <th>systolic_bp</th>\n",
       "      <th>diastolic_bp</th>\n",
       "      <th>cholesterol</th>\n",
       "      <th>prognosis</th>\n",
       "    </tr>\n",
       "    <tr>\n",
       "      <th>ID</th>\n",
       "      <th></th>\n",
       "      <th></th>\n",
       "      <th></th>\n",
       "      <th></th>\n",
       "      <th></th>\n",
       "    </tr>\n",
       "  </thead>\n",
       "  <tbody>\n",
       "    <tr>\n",
       "      <th>12</th>\n",
       "      <td>66.890987</td>\n",
       "      <td>93.205124</td>\n",
       "      <td>85.270310</td>\n",
       "      <td>106.465128</td>\n",
       "      <td>0</td>\n",
       "    </tr>\n",
       "    <tr>\n",
       "      <th>15</th>\n",
       "      <td>62.929328</td>\n",
       "      <td>101.524942</td>\n",
       "      <td>95.684936</td>\n",
       "      <td>102.916473</td>\n",
       "      <td>0</td>\n",
       "    </tr>\n",
       "    <tr>\n",
       "      <th>16</th>\n",
       "      <td>74.275743</td>\n",
       "      <td>91.245927</td>\n",
       "      <td>78.204968</td>\n",
       "      <td>99.417104</td>\n",
       "      <td>0</td>\n",
       "    </tr>\n",
       "    <tr>\n",
       "      <th>17</th>\n",
       "      <td>58.267020</td>\n",
       "      <td>101.259314</td>\n",
       "      <td>86.790774</td>\n",
       "      <td>102.242965</td>\n",
       "      <td>0</td>\n",
       "    </tr>\n",
       "    <tr>\n",
       "      <th>18</th>\n",
       "      <td>62.744349</td>\n",
       "      <td>89.883434</td>\n",
       "      <td>80.923457</td>\n",
       "      <td>102.083878</td>\n",
       "      <td>0</td>\n",
       "    </tr>\n",
       "    <tr>\n",
       "      <th>...</th>\n",
       "      <td>...</td>\n",
       "      <td>...</td>\n",
       "      <td>...</td>\n",
       "      <td>...</td>\n",
       "      <td>...</td>\n",
       "    </tr>\n",
       "    <tr>\n",
       "      <th>5989</th>\n",
       "      <td>66.273056</td>\n",
       "      <td>95.931085</td>\n",
       "      <td>97.187327</td>\n",
       "      <td>112.075571</td>\n",
       "      <td>0</td>\n",
       "    </tr>\n",
       "    <tr>\n",
       "      <th>5993</th>\n",
       "      <td>53.279942</td>\n",
       "      <td>88.726857</td>\n",
       "      <td>78.845703</td>\n",
       "      <td>86.271988</td>\n",
       "      <td>0</td>\n",
       "    </tr>\n",
       "    <tr>\n",
       "      <th>5994</th>\n",
       "      <td>56.603050</td>\n",
       "      <td>105.062208</td>\n",
       "      <td>91.448914</td>\n",
       "      <td>111.989797</td>\n",
       "      <td>0</td>\n",
       "    </tr>\n",
       "    <tr>\n",
       "      <th>5995</th>\n",
       "      <td>49.611850</td>\n",
       "      <td>94.857639</td>\n",
       "      <td>86.615671</td>\n",
       "      <td>107.643986</td>\n",
       "      <td>0</td>\n",
       "    </tr>\n",
       "    <tr>\n",
       "      <th>5999</th>\n",
       "      <td>62.506825</td>\n",
       "      <td>96.900784</td>\n",
       "      <td>86.878033</td>\n",
       "      <td>108.625436</td>\n",
       "      <td>0</td>\n",
       "    </tr>\n",
       "  </tbody>\n",
       "</table>\n",
       "<p>2913 rows × 5 columns</p>\n",
       "</div>"
      ],
      "text/plain": [
       "            age  systolic_bp  diastolic_bp  cholesterol  prognosis\n",
       "ID                                                                \n",
       "12    66.890987    93.205124     85.270310   106.465128          0\n",
       "15    62.929328   101.524942     95.684936   102.916473          0\n",
       "16    74.275743    91.245927     78.204968    99.417104          0\n",
       "17    58.267020   101.259314     86.790774   102.242965          0\n",
       "18    62.744349    89.883434     80.923457   102.083878          0\n",
       "...         ...          ...           ...          ...        ...\n",
       "5989  66.273056    95.931085     97.187327   112.075571          0\n",
       "5993  53.279942    88.726857     78.845703    86.271988          0\n",
       "5994  56.603050   105.062208     91.448914   111.989797          0\n",
       "5995  49.611850    94.857639     86.615671   107.643986          0\n",
       "5999  62.506825    96.900784     86.878033   108.625436          0\n",
       "\n",
       "[2913 rows x 5 columns]"
      ]
     },
     "execution_count": 119,
     "metadata": {},
     "output_type": "execute_result"
    }
   ],
   "source": [
    "d_data[d_data['prognosis']==0]"
   ]
  },
  {
   "cell_type": "code",
   "execution_count": null,
   "id": "457ec16c",
   "metadata": {},
   "outputs": [],
   "source": []
  }
 ],
 "metadata": {
  "kernelspec": {
   "display_name": "Python 3 (ipykernel)",
   "language": "python",
   "name": "python3"
  },
  "language_info": {
   "codemirror_mode": {
    "name": "ipython",
    "version": 3
   },
   "file_extension": ".py",
   "mimetype": "text/x-python",
   "name": "python",
   "nbconvert_exporter": "python",
   "pygments_lexer": "ipython3",
   "version": "3.9.7"
  }
 },
 "nbformat": 4,
 "nbformat_minor": 5
}
