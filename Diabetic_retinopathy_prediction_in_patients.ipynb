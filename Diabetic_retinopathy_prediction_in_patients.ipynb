{
 "cells": [
  {
   "cell_type": "markdown",
   "id": "8c1fcd70",
   "metadata": {},
   "source": [
    "# Problem in hand :\n",
    "\n",
    "###   Diabetic retinopathy prediction in patients \n",
    "\n",
    "#### Business Objective:\n",
    "The variable to be predicted has two values (positive or negative on diabetic retinopathy). Thus, this is a binary classification project. The goal here is to predict whether a patient will suffer from diabetic retinopathy or not, conditioned on blood test features.\n"
   ]
  },
  {
   "cell_type": "code",
   "execution_count": 1,
   "id": "ed1b90ca",
   "metadata": {},
   "outputs": [],
   "source": [
    "from __future__ import print_function\n",
    "import pandas as pd\n",
    "import numpy as np\n",
    "import matplotlib.pyplot as plt\n",
    "import seaborn as sns\n",
    "import warnings\n",
    "warnings.filterwarnings('ignore')"
   ]
  },
  {
   "cell_type": "markdown",
   "id": "9fc1cfe6",
   "metadata": {},
   "source": [
    "### importing the dataset here we have dropped the index column "
   ]
  },
  {
   "cell_type": "code",
   "execution_count": 2,
   "id": "47749ae7",
   "metadata": {},
   "outputs": [
    {
     "data": {
      "text/html": [
       "<div>\n",
       "<style scoped>\n",
       "    .dataframe tbody tr th:only-of-type {\n",
       "        vertical-align: middle;\n",
       "    }\n",
       "\n",
       "    .dataframe tbody tr th {\n",
       "        vertical-align: top;\n",
       "    }\n",
       "\n",
       "    .dataframe thead th {\n",
       "        text-align: right;\n",
       "    }\n",
       "</style>\n",
       "<table border=\"1\" class=\"dataframe\">\n",
       "  <thead>\n",
       "    <tr style=\"text-align: right;\">\n",
       "      <th></th>\n",
       "      <th>age</th>\n",
       "      <th>systolic_bp</th>\n",
       "      <th>diastolic_bp</th>\n",
       "      <th>cholesterol</th>\n",
       "      <th>prognosis</th>\n",
       "    </tr>\n",
       "    <tr>\n",
       "      <th>ID</th>\n",
       "      <th></th>\n",
       "      <th></th>\n",
       "      <th></th>\n",
       "      <th></th>\n",
       "      <th></th>\n",
       "    </tr>\n",
       "  </thead>\n",
       "  <tbody>\n",
       "    <tr>\n",
       "      <th>0</th>\n",
       "      <td>77.196340</td>\n",
       "      <td>85.288742</td>\n",
       "      <td>80.021878</td>\n",
       "      <td>79.957109</td>\n",
       "      <td>retinopathy</td>\n",
       "    </tr>\n",
       "    <tr>\n",
       "      <th>1</th>\n",
       "      <td>63.529850</td>\n",
       "      <td>99.379736</td>\n",
       "      <td>84.852361</td>\n",
       "      <td>110.382411</td>\n",
       "      <td>retinopathy</td>\n",
       "    </tr>\n",
       "    <tr>\n",
       "      <th>2</th>\n",
       "      <td>69.003986</td>\n",
       "      <td>111.349455</td>\n",
       "      <td>109.850616</td>\n",
       "      <td>100.828246</td>\n",
       "      <td>retinopathy</td>\n",
       "    </tr>\n",
       "    <tr>\n",
       "      <th>3</th>\n",
       "      <td>82.638210</td>\n",
       "      <td>95.056128</td>\n",
       "      <td>79.666851</td>\n",
       "      <td>87.066303</td>\n",
       "      <td>retinopathy</td>\n",
       "    </tr>\n",
       "    <tr>\n",
       "      <th>4</th>\n",
       "      <td>78.346286</td>\n",
       "      <td>109.154591</td>\n",
       "      <td>90.713220</td>\n",
       "      <td>92.511770</td>\n",
       "      <td>retinopathy</td>\n",
       "    </tr>\n",
       "  </tbody>\n",
       "</table>\n",
       "</div>"
      ],
      "text/plain": [
       "          age  systolic_bp  diastolic_bp  cholesterol    prognosis\n",
       "ID                                                                \n",
       "0   77.196340    85.288742     80.021878    79.957109  retinopathy\n",
       "1   63.529850    99.379736     84.852361   110.382411  retinopathy\n",
       "2   69.003986   111.349455    109.850616   100.828246  retinopathy\n",
       "3   82.638210    95.056128     79.666851    87.066303  retinopathy\n",
       "4   78.346286   109.154591     90.713220    92.511770  retinopathy"
      ]
     },
     "execution_count": 2,
     "metadata": {},
     "output_type": "execute_result"
    }
   ],
   "source": [
    "data = pd.read_csv(\"pronostico_dataset.csv\",index_col=0)\n",
    "data.head()"
   ]
  },
  {
   "cell_type": "markdown",
   "id": "7745c115",
   "metadata": {},
   "source": [
    "# Data Set Details:\n",
    "### Target variables has two values in a classification project type: 0 (false) or 1 (true). \n",
    "### The number of instances (rows) in the data set is 6000, and the number of variables (columns) is 6.\n",
    "### The following list summarizes the information of the variables\n",
    "#### 1)ID: Numeric\n",
    "#### 2)age: (numeric).\n",
    "#### 3)systolic_bp: (normal range: below 120mmHg). When the heart beats, it squeezes and pushes blood through the arteries to the rest of the body. This force creates pressure on the blood vessels, and that is the systolic blood pressure.\n",
    "#### 4)diastolic_bp: (normal range: lower than 80mmHg). It is the pressure in the arteries when the heart rests between beats. This is the time when the heart fills with blood and gets oxygen.\n",
    "#### 5)cholesterol: (normal range: between 125 and 200 mg/dl). It is a waxy, fat-like substance found in every cell in the body.\n",
    "#### 6)prognosis: (0 or 1) (Target). It is 1 if the patient has retinopathy and 0 if he doesn't.\n"
   ]
  },
  {
   "cell_type": "markdown",
   "id": "76ec77c9",
   "metadata": {},
   "source": [
    "# Exploratory Data Analysis:\n",
    " here we will do the complete EDA and draw some insights"
   ]
  },
  {
   "cell_type": "code",
   "execution_count": 3,
   "id": "9ab9e6d2",
   "metadata": {},
   "outputs": [
    {
     "data": {
      "text/html": [
       "<div>\n",
       "<style scoped>\n",
       "    .dataframe tbody tr th:only-of-type {\n",
       "        vertical-align: middle;\n",
       "    }\n",
       "\n",
       "    .dataframe tbody tr th {\n",
       "        vertical-align: top;\n",
       "    }\n",
       "\n",
       "    .dataframe thead th {\n",
       "        text-align: right;\n",
       "    }\n",
       "</style>\n",
       "<table border=\"1\" class=\"dataframe\">\n",
       "  <thead>\n",
       "    <tr style=\"text-align: right;\">\n",
       "      <th></th>\n",
       "      <th>age</th>\n",
       "      <th>systolic_bp</th>\n",
       "      <th>diastolic_bp</th>\n",
       "      <th>cholesterol</th>\n",
       "      <th>prognosis</th>\n",
       "    </tr>\n",
       "    <tr>\n",
       "      <th>ID</th>\n",
       "      <th></th>\n",
       "      <th></th>\n",
       "      <th></th>\n",
       "      <th></th>\n",
       "      <th></th>\n",
       "    </tr>\n",
       "  </thead>\n",
       "  <tbody>\n",
       "    <tr>\n",
       "      <th>0</th>\n",
       "      <td>77.196340</td>\n",
       "      <td>85.288742</td>\n",
       "      <td>80.021878</td>\n",
       "      <td>79.957109</td>\n",
       "      <td>retinopathy</td>\n",
       "    </tr>\n",
       "    <tr>\n",
       "      <th>1</th>\n",
       "      <td>63.529850</td>\n",
       "      <td>99.379736</td>\n",
       "      <td>84.852361</td>\n",
       "      <td>110.382411</td>\n",
       "      <td>retinopathy</td>\n",
       "    </tr>\n",
       "    <tr>\n",
       "      <th>2</th>\n",
       "      <td>69.003986</td>\n",
       "      <td>111.349455</td>\n",
       "      <td>109.850616</td>\n",
       "      <td>100.828246</td>\n",
       "      <td>retinopathy</td>\n",
       "    </tr>\n",
       "    <tr>\n",
       "      <th>3</th>\n",
       "      <td>82.638210</td>\n",
       "      <td>95.056128</td>\n",
       "      <td>79.666851</td>\n",
       "      <td>87.066303</td>\n",
       "      <td>retinopathy</td>\n",
       "    </tr>\n",
       "    <tr>\n",
       "      <th>4</th>\n",
       "      <td>78.346286</td>\n",
       "      <td>109.154591</td>\n",
       "      <td>90.713220</td>\n",
       "      <td>92.511770</td>\n",
       "      <td>retinopathy</td>\n",
       "    </tr>\n",
       "  </tbody>\n",
       "</table>\n",
       "</div>"
      ],
      "text/plain": [
       "          age  systolic_bp  diastolic_bp  cholesterol    prognosis\n",
       "ID                                                                \n",
       "0   77.196340    85.288742     80.021878    79.957109  retinopathy\n",
       "1   63.529850    99.379736     84.852361   110.382411  retinopathy\n",
       "2   69.003986   111.349455    109.850616   100.828246  retinopathy\n",
       "3   82.638210    95.056128     79.666851    87.066303  retinopathy\n",
       "4   78.346286   109.154591     90.713220    92.511770  retinopathy"
      ]
     },
     "execution_count": 3,
     "metadata": {},
     "output_type": "execute_result"
    }
   ],
   "source": [
    "# at first we will create the copy of the dataset to keep orignal dataset beside from our analysis\n",
    "d_data = data.copy()\n",
    "d_data.head()"
   ]
  },
  {
   "cell_type": "code",
   "execution_count": 4,
   "id": "1765510c",
   "metadata": {},
   "outputs": [
    {
     "data": {
      "text/html": [
       "<div>\n",
       "<style scoped>\n",
       "    .dataframe tbody tr th:only-of-type {\n",
       "        vertical-align: middle;\n",
       "    }\n",
       "\n",
       "    .dataframe tbody tr th {\n",
       "        vertical-align: top;\n",
       "    }\n",
       "\n",
       "    .dataframe thead th {\n",
       "        text-align: right;\n",
       "    }\n",
       "</style>\n",
       "<table border=\"1\" class=\"dataframe\">\n",
       "  <thead>\n",
       "    <tr style=\"text-align: right;\">\n",
       "      <th></th>\n",
       "      <th>age</th>\n",
       "      <th>systolic_bp</th>\n",
       "      <th>diastolic_bp</th>\n",
       "      <th>cholesterol</th>\n",
       "      <th>prognosis</th>\n",
       "    </tr>\n",
       "    <tr>\n",
       "      <th>ID</th>\n",
       "      <th></th>\n",
       "      <th></th>\n",
       "      <th></th>\n",
       "      <th></th>\n",
       "      <th></th>\n",
       "    </tr>\n",
       "  </thead>\n",
       "  <tbody>\n",
       "    <tr>\n",
       "      <th>5995</th>\n",
       "      <td>49.611850</td>\n",
       "      <td>94.857639</td>\n",
       "      <td>86.615671</td>\n",
       "      <td>107.643986</td>\n",
       "      <td>no_retinopathy</td>\n",
       "    </tr>\n",
       "    <tr>\n",
       "      <th>5996</th>\n",
       "      <td>63.099686</td>\n",
       "      <td>100.039527</td>\n",
       "      <td>93.515186</td>\n",
       "      <td>104.971404</td>\n",
       "      <td>retinopathy</td>\n",
       "    </tr>\n",
       "    <tr>\n",
       "      <th>5997</th>\n",
       "      <td>55.562243</td>\n",
       "      <td>98.421446</td>\n",
       "      <td>102.697875</td>\n",
       "      <td>120.875951</td>\n",
       "      <td>retinopathy</td>\n",
       "    </tr>\n",
       "    <tr>\n",
       "      <th>5998</th>\n",
       "      <td>63.468956</td>\n",
       "      <td>106.809289</td>\n",
       "      <td>88.060631</td>\n",
       "      <td>106.052213</td>\n",
       "      <td>retinopathy</td>\n",
       "    </tr>\n",
       "    <tr>\n",
       "      <th>5999</th>\n",
       "      <td>62.506825</td>\n",
       "      <td>96.900784</td>\n",
       "      <td>86.878033</td>\n",
       "      <td>108.625436</td>\n",
       "      <td>no_retinopathy</td>\n",
       "    </tr>\n",
       "  </tbody>\n",
       "</table>\n",
       "</div>"
      ],
      "text/plain": [
       "            age  systolic_bp  diastolic_bp  cholesterol       prognosis\n",
       "ID                                                                     \n",
       "5995  49.611850    94.857639     86.615671   107.643986  no_retinopathy\n",
       "5996  63.099686   100.039527     93.515186   104.971404     retinopathy\n",
       "5997  55.562243    98.421446    102.697875   120.875951     retinopathy\n",
       "5998  63.468956   106.809289     88.060631   106.052213     retinopathy\n",
       "5999  62.506825    96.900784     86.878033   108.625436  no_retinopathy"
      ]
     },
     "execution_count": 4,
     "metadata": {},
     "output_type": "execute_result"
    }
   ],
   "source": [
    "d_data.tail()"
   ]
  },
  {
   "cell_type": "code",
   "execution_count": 5,
   "id": "b9593643",
   "metadata": {},
   "outputs": [
    {
     "name": "stdout",
     "output_type": "stream",
     "text": [
      "data set colums are : Index(['age', 'systolic_bp', 'diastolic_bp', 'cholesterol', 'prognosis'], dtype='object')\n"
     ]
    }
   ],
   "source": [
    "print(f\"data set colums are : {d_data.columns}\")"
   ]
  },
  {
   "cell_type": "code",
   "execution_count": 6,
   "id": "fbb55d53",
   "metadata": {},
   "outputs": [
    {
     "data": {
      "text/plain": [
       "age             float64\n",
       "systolic_bp     float64\n",
       "diastolic_bp    float64\n",
       "cholesterol     float64\n",
       "prognosis        object\n",
       "dtype: object"
      ]
     },
     "execution_count": 6,
     "metadata": {},
     "output_type": "execute_result"
    }
   ],
   "source": [
    "data.dtypes"
   ]
  },
  {
   "cell_type": "code",
   "execution_count": 7,
   "id": "39f8c271",
   "metadata": {},
   "outputs": [
    {
     "data": {
      "text/html": [
       "<div>\n",
       "<style scoped>\n",
       "    .dataframe tbody tr th:only-of-type {\n",
       "        vertical-align: middle;\n",
       "    }\n",
       "\n",
       "    .dataframe tbody tr th {\n",
       "        vertical-align: top;\n",
       "    }\n",
       "\n",
       "    .dataframe thead th {\n",
       "        text-align: right;\n",
       "    }\n",
       "</style>\n",
       "<table border=\"1\" class=\"dataframe\">\n",
       "  <thead>\n",
       "    <tr style=\"text-align: right;\">\n",
       "      <th></th>\n",
       "      <th>age</th>\n",
       "      <th>systolic_bp</th>\n",
       "      <th>diastolic_bp</th>\n",
       "      <th>cholesterol</th>\n",
       "    </tr>\n",
       "  </thead>\n",
       "  <tbody>\n",
       "    <tr>\n",
       "      <th>count</th>\n",
       "      <td>6000.000000</td>\n",
       "      <td>6000.000000</td>\n",
       "      <td>6000.000000</td>\n",
       "      <td>6000.000000</td>\n",
       "    </tr>\n",
       "    <tr>\n",
       "      <th>mean</th>\n",
       "      <td>60.464121</td>\n",
       "      <td>100.694822</td>\n",
       "      <td>90.505547</td>\n",
       "      <td>100.628255</td>\n",
       "    </tr>\n",
       "    <tr>\n",
       "      <th>std</th>\n",
       "      <td>8.564392</td>\n",
       "      <td>10.669267</td>\n",
       "      <td>9.648200</td>\n",
       "      <td>10.433915</td>\n",
       "    </tr>\n",
       "    <tr>\n",
       "      <th>min</th>\n",
       "      <td>35.164761</td>\n",
       "      <td>69.675429</td>\n",
       "      <td>62.807105</td>\n",
       "      <td>69.967453</td>\n",
       "    </tr>\n",
       "    <tr>\n",
       "      <th>25%</th>\n",
       "      <td>54.371941</td>\n",
       "      <td>93.267420</td>\n",
       "      <td>83.641788</td>\n",
       "      <td>93.202373</td>\n",
       "    </tr>\n",
       "    <tr>\n",
       "      <th>50%</th>\n",
       "      <td>59.831159</td>\n",
       "      <td>100.119926</td>\n",
       "      <td>89.912429</td>\n",
       "      <td>100.060637</td>\n",
       "    </tr>\n",
       "    <tr>\n",
       "      <th>75%</th>\n",
       "      <td>65.809652</td>\n",
       "      <td>107.439501</td>\n",
       "      <td>96.682405</td>\n",
       "      <td>107.250829</td>\n",
       "    </tr>\n",
       "    <tr>\n",
       "      <th>max</th>\n",
       "      <td>103.279497</td>\n",
       "      <td>151.699660</td>\n",
       "      <td>133.456382</td>\n",
       "      <td>148.233544</td>\n",
       "    </tr>\n",
       "  </tbody>\n",
       "</table>\n",
       "</div>"
      ],
      "text/plain": [
       "               age  systolic_bp  diastolic_bp  cholesterol\n",
       "count  6000.000000  6000.000000   6000.000000  6000.000000\n",
       "mean     60.464121   100.694822     90.505547   100.628255\n",
       "std       8.564392    10.669267      9.648200    10.433915\n",
       "min      35.164761    69.675429     62.807105    69.967453\n",
       "25%      54.371941    93.267420     83.641788    93.202373\n",
       "50%      59.831159   100.119926     89.912429   100.060637\n",
       "75%      65.809652   107.439501     96.682405   107.250829\n",
       "max     103.279497   151.699660    133.456382   148.233544"
      ]
     },
     "execution_count": 7,
     "metadata": {},
     "output_type": "execute_result"
    }
   ],
   "source": [
    "d_data.describe()"
   ]
  },
  {
   "cell_type": "markdown",
   "id": "c0d1b4ad",
   "metadata": {},
   "source": [
    "### From above description of the datset we can draw some insights which are as follows:\n",
    "age) in the age column the maximum age is 103 and the minimum age is 35\n",
    "\n",
    "systolic_bp) in the systolic_bp column the maximum level counterd was 151 and the minimum level was 69\n",
    "\n",
    "diastolic_bp) in the diastolic_bp column the maximum level counterd was 133 and the minimum level was 62\n",
    "\n",
    "cholestrol) in the cholestrol column the maximum level counterd was 148 and the minimum level was 69"
   ]
  },
  {
   "cell_type": "markdown",
   "id": "e4ea29fe",
   "metadata": {},
   "source": [
    "#### now we will type cast the columns if the types are misleading"
   ]
  },
  {
   "cell_type": "code",
   "execution_count": 8,
   "id": "e34e2e71",
   "metadata": {},
   "outputs": [
    {
     "name": "stdout",
     "output_type": "stream",
     "text": [
      "<class 'pandas.core.frame.DataFrame'>\n",
      "Int64Index: 6000 entries, 0 to 5999\n",
      "Data columns (total 5 columns):\n",
      " #   Column        Non-Null Count  Dtype  \n",
      "---  ------        --------------  -----  \n",
      " 0   age           6000 non-null   float64\n",
      " 1   systolic_bp   6000 non-null   float64\n",
      " 2   diastolic_bp  6000 non-null   float64\n",
      " 3   cholesterol   6000 non-null   float64\n",
      " 4   prognosis     6000 non-null   object \n",
      "dtypes: float64(4), object(1)\n",
      "memory usage: 281.2+ KB\n"
     ]
    }
   ],
   "source": [
    "d_data.info()"
   ]
  },
  {
   "cell_type": "markdown",
   "id": "10fbc61c",
   "metadata": {},
   "source": [
    "here we can see 4 continous columns are of float datatype and the target variable is object we will change the datatype of a age column using type . for the target variable it will be converted when we will be doing encoding on the same"
   ]
  },
  {
   "cell_type": "code",
   "execution_count": 9,
   "id": "9205d651",
   "metadata": {},
   "outputs": [],
   "source": [
    "d_data['age']=d_data['age'].astype(int)"
   ]
  },
  {
   "cell_type": "code",
   "execution_count": 10,
   "id": "11af74e9",
   "metadata": {},
   "outputs": [
    {
     "data": {
      "text/plain": [
       "age               int32\n",
       "systolic_bp     float64\n",
       "diastolic_bp    float64\n",
       "cholesterol     float64\n",
       "prognosis        object\n",
       "dtype: object"
      ]
     },
     "execution_count": 10,
     "metadata": {},
     "output_type": "execute_result"
    }
   ],
   "source": [
    "d_data.dtypes"
   ]
  },
  {
   "cell_type": "code",
   "execution_count": 11,
   "id": "d49a4380",
   "metadata": {},
   "outputs": [],
   "source": [
    "# it seems good now"
   ]
  },
  {
   "cell_type": "markdown",
   "id": "5c8e39d1",
   "metadata": {},
   "source": [
    "# missing values or null vlaues\n",
    "\n",
    "first thing we should do :D"
   ]
  },
  {
   "cell_type": "code",
   "execution_count": 12,
   "id": "fde68db2",
   "metadata": {},
   "outputs": [
    {
     "data": {
      "text/plain": [
       "age             0\n",
       "systolic_bp     0\n",
       "diastolic_bp    0\n",
       "cholesterol     0\n",
       "prognosis       0\n",
       "dtype: int64"
      ]
     },
     "execution_count": 12,
     "metadata": {},
     "output_type": "execute_result"
    }
   ],
   "source": [
    "d_data.isnull().sum()"
   ]
  },
  {
   "cell_type": "markdown",
   "id": "eb1e2f0d",
   "metadata": {},
   "source": [
    "data set has no null values so no need of missing values imputation we will also visualize it using heatmap"
   ]
  },
  {
   "cell_type": "code",
   "execution_count": 13,
   "id": "849816dc",
   "metadata": {},
   "outputs": [
    {
     "data": {
      "image/png": "[encoded data removed]",
      "text/plain": [
       "<Figure size 720x360 with 2 Axes>"
      ]
     },
     "metadata": {
      "needs_background": "light"
     },
     "output_type": "display_data"
    }
   ],
   "source": [
    "plt.figure(figsize = (10,5))\n",
    "sns.heatmap(d_data.isnull(),cmap='gnuplot')\n",
    "plt.title('null values in the dataset ')\n",
    "plt.show()"
   ]
  },
  {
   "cell_type": "markdown",
   "id": "44765296",
   "metadata": {},
   "source": [
    "from heatmap also we can see there are no null values are present in the dataset"
   ]
  },
  {
   "cell_type": "markdown",
   "id": "a5f63a53",
   "metadata": {},
   "source": [
    "### Duplicate Values:"
   ]
  },
  {
   "cell_type": "code",
   "execution_count": 14,
   "id": "5ed1c929",
   "metadata": {},
   "outputs": [
    {
     "data": {
      "text/plain": [
       "age             0.0\n",
       "systolic_bp     0.0\n",
       "diastolic_bp    0.0\n",
       "cholesterol     0.0\n",
       "prognosis       0.0\n",
       "dtype: float64"
      ]
     },
     "execution_count": 14,
     "metadata": {},
     "output_type": "execute_result"
    }
   ],
   "source": [
    "d_data[d_data.duplicated()].sum()"
   ]
  },
  {
   "cell_type": "markdown",
   "id": "5622ebb8",
   "metadata": {},
   "source": [
    "no duplicatae values also"
   ]
  },
  {
   "cell_type": "markdown",
   "id": "7592779b",
   "metadata": {},
   "source": [
    "### As we know we have only one catogorcal variableis in the dataset which is our target variable we will see the count of it"
   ]
  },
  {
   "cell_type": "code",
   "execution_count": 15,
   "id": "ca293ef3",
   "metadata": {},
   "outputs": [
    {
     "data": {
      "text/plain": [
       "retinopathy       3087\n",
       "no_retinopathy    2913\n",
       "Name: prognosis, dtype: int64"
      ]
     },
     "execution_count": 15,
     "metadata": {},
     "output_type": "execute_result"
    }
   ],
   "source": [
    "d_data.prognosis.value_counts()"
   ]
  },
  {
   "cell_type": "markdown",
   "id": "533f9ce3",
   "metadata": {},
   "source": [
    "from above observation we can say our data is not imbalenced"
   ]
  },
  {
   "cell_type": "markdown",
   "id": "8d699929",
   "metadata": {},
   "source": [
    "## now we wil encode the catogorical variable which is prognosis using one hot encoding"
   ]
  },
  {
   "cell_type": "code",
   "execution_count": 16,
   "id": "e99a353d",
   "metadata": {},
   "outputs": [],
   "source": [
    "d_data['prognosis'] = d_data['prognosis'].map({'retinopathy': 1,'no_retinopathy':0})"
   ]
  },
  {
   "cell_type": "code",
   "execution_count": 17,
   "id": "2e150611",
   "metadata": {},
   "outputs": [
    {
     "data": {
      "text/html": [
       "<div>\n",
       "<style scoped>\n",
       "    .dataframe tbody tr th:only-of-type {\n",
       "        vertical-align: middle;\n",
       "    }\n",
       "\n",
       "    .dataframe tbody tr th {\n",
       "        vertical-align: top;\n",
       "    }\n",
       "\n",
       "    .dataframe thead th {\n",
       "        text-align: right;\n",
       "    }\n",
       "</style>\n",
       "<table border=\"1\" class=\"dataframe\">\n",
       "  <thead>\n",
       "    <tr style=\"text-align: right;\">\n",
       "      <th></th>\n",
       "      <th>age</th>\n",
       "      <th>systolic_bp</th>\n",
       "      <th>diastolic_bp</th>\n",
       "      <th>cholesterol</th>\n",
       "      <th>prognosis</th>\n",
       "    </tr>\n",
       "    <tr>\n",
       "      <th>ID</th>\n",
       "      <th></th>\n",
       "      <th></th>\n",
       "      <th></th>\n",
       "      <th></th>\n",
       "      <th></th>\n",
       "    </tr>\n",
       "  </thead>\n",
       "  <tbody>\n",
       "    <tr>\n",
       "      <th>0</th>\n",
       "      <td>77</td>\n",
       "      <td>85.288742</td>\n",
       "      <td>80.021878</td>\n",
       "      <td>79.957109</td>\n",
       "      <td>1</td>\n",
       "    </tr>\n",
       "    <tr>\n",
       "      <th>1</th>\n",
       "      <td>63</td>\n",
       "      <td>99.379736</td>\n",
       "      <td>84.852361</td>\n",
       "      <td>110.382411</td>\n",
       "      <td>1</td>\n",
       "    </tr>\n",
       "    <tr>\n",
       "      <th>2</th>\n",
       "      <td>69</td>\n",
       "      <td>111.349455</td>\n",
       "      <td>109.850616</td>\n",
       "      <td>100.828246</td>\n",
       "      <td>1</td>\n",
       "    </tr>\n",
       "    <tr>\n",
       "      <th>3</th>\n",
       "      <td>82</td>\n",
       "      <td>95.056128</td>\n",
       "      <td>79.666851</td>\n",
       "      <td>87.066303</td>\n",
       "      <td>1</td>\n",
       "    </tr>\n",
       "    <tr>\n",
       "      <th>4</th>\n",
       "      <td>78</td>\n",
       "      <td>109.154591</td>\n",
       "      <td>90.713220</td>\n",
       "      <td>92.511770</td>\n",
       "      <td>1</td>\n",
       "    </tr>\n",
       "  </tbody>\n",
       "</table>\n",
       "</div>"
      ],
      "text/plain": [
       "    age  systolic_bp  diastolic_bp  cholesterol  prognosis\n",
       "ID                                                        \n",
       "0    77    85.288742     80.021878    79.957109          1\n",
       "1    63    99.379736     84.852361   110.382411          1\n",
       "2    69   111.349455    109.850616   100.828246          1\n",
       "3    82    95.056128     79.666851    87.066303          1\n",
       "4    78   109.154591     90.713220    92.511770          1"
      ]
     },
     "execution_count": 17,
     "metadata": {},
     "output_type": "execute_result"
    }
   ],
   "source": [
    "d_data.head()"
   ]
  },
  {
   "cell_type": "code",
   "execution_count": 18,
   "id": "e2e1ec0f",
   "metadata": {},
   "outputs": [
    {
     "data": {
      "text/html": [
       "<div>\n",
       "<style scoped>\n",
       "    .dataframe tbody tr th:only-of-type {\n",
       "        vertical-align: middle;\n",
       "    }\n",
       "\n",
       "    .dataframe tbody tr th {\n",
       "        vertical-align: top;\n",
       "    }\n",
       "\n",
       "    .dataframe thead th {\n",
       "        text-align: right;\n",
       "    }\n",
       "</style>\n",
       "<table border=\"1\" class=\"dataframe\">\n",
       "  <thead>\n",
       "    <tr style=\"text-align: right;\">\n",
       "      <th></th>\n",
       "      <th>age</th>\n",
       "      <th>systolic_bp</th>\n",
       "      <th>diastolic_bp</th>\n",
       "      <th>cholesterol</th>\n",
       "      <th>prognosis</th>\n",
       "    </tr>\n",
       "    <tr>\n",
       "      <th>ID</th>\n",
       "      <th></th>\n",
       "      <th></th>\n",
       "      <th></th>\n",
       "      <th></th>\n",
       "      <th></th>\n",
       "    </tr>\n",
       "  </thead>\n",
       "  <tbody>\n",
       "    <tr>\n",
       "      <th>0</th>\n",
       "      <td>77</td>\n",
       "      <td>85.288742</td>\n",
       "      <td>80.021878</td>\n",
       "      <td>79.957109</td>\n",
       "      <td>1</td>\n",
       "    </tr>\n",
       "    <tr>\n",
       "      <th>1</th>\n",
       "      <td>63</td>\n",
       "      <td>99.379736</td>\n",
       "      <td>84.852361</td>\n",
       "      <td>110.382411</td>\n",
       "      <td>1</td>\n",
       "    </tr>\n",
       "    <tr>\n",
       "      <th>2</th>\n",
       "      <td>69</td>\n",
       "      <td>111.349455</td>\n",
       "      <td>109.850616</td>\n",
       "      <td>100.828246</td>\n",
       "      <td>1</td>\n",
       "    </tr>\n",
       "    <tr>\n",
       "      <th>3</th>\n",
       "      <td>82</td>\n",
       "      <td>95.056128</td>\n",
       "      <td>79.666851</td>\n",
       "      <td>87.066303</td>\n",
       "      <td>1</td>\n",
       "    </tr>\n",
       "    <tr>\n",
       "      <th>4</th>\n",
       "      <td>78</td>\n",
       "      <td>109.154591</td>\n",
       "      <td>90.713220</td>\n",
       "      <td>92.511770</td>\n",
       "      <td>1</td>\n",
       "    </tr>\n",
       "    <tr>\n",
       "      <th>...</th>\n",
       "      <td>...</td>\n",
       "      <td>...</td>\n",
       "      <td>...</td>\n",
       "      <td>...</td>\n",
       "      <td>...</td>\n",
       "    </tr>\n",
       "    <tr>\n",
       "      <th>5991</th>\n",
       "      <td>59</td>\n",
       "      <td>105.516534</td>\n",
       "      <td>99.069641</td>\n",
       "      <td>108.177934</td>\n",
       "      <td>1</td>\n",
       "    </tr>\n",
       "    <tr>\n",
       "      <th>5992</th>\n",
       "      <td>72</td>\n",
       "      <td>115.105489</td>\n",
       "      <td>99.500383</td>\n",
       "      <td>126.590583</td>\n",
       "      <td>1</td>\n",
       "    </tr>\n",
       "    <tr>\n",
       "      <th>5996</th>\n",
       "      <td>63</td>\n",
       "      <td>100.039527</td>\n",
       "      <td>93.515186</td>\n",
       "      <td>104.971404</td>\n",
       "      <td>1</td>\n",
       "    </tr>\n",
       "    <tr>\n",
       "      <th>5997</th>\n",
       "      <td>55</td>\n",
       "      <td>98.421446</td>\n",
       "      <td>102.697875</td>\n",
       "      <td>120.875951</td>\n",
       "      <td>1</td>\n",
       "    </tr>\n",
       "    <tr>\n",
       "      <th>5998</th>\n",
       "      <td>63</td>\n",
       "      <td>106.809289</td>\n",
       "      <td>88.060631</td>\n",
       "      <td>106.052213</td>\n",
       "      <td>1</td>\n",
       "    </tr>\n",
       "  </tbody>\n",
       "</table>\n",
       "<p>3087 rows × 5 columns</p>\n",
       "</div>"
      ],
      "text/plain": [
       "      age  systolic_bp  diastolic_bp  cholesterol  prognosis\n",
       "ID                                                          \n",
       "0      77    85.288742     80.021878    79.957109          1\n",
       "1      63    99.379736     84.852361   110.382411          1\n",
       "2      69   111.349455    109.850616   100.828246          1\n",
       "3      82    95.056128     79.666851    87.066303          1\n",
       "4      78   109.154591     90.713220    92.511770          1\n",
       "...   ...          ...           ...          ...        ...\n",
       "5991   59   105.516534     99.069641   108.177934          1\n",
       "5992   72   115.105489     99.500383   126.590583          1\n",
       "5996   63   100.039527     93.515186   104.971404          1\n",
       "5997   55    98.421446    102.697875   120.875951          1\n",
       "5998   63   106.809289     88.060631   106.052213          1\n",
       "\n",
       "[3087 rows x 5 columns]"
      ]
     },
     "execution_count": 18,
     "metadata": {},
     "output_type": "execute_result"
    }
   ],
   "source": [
    "d_data[d_data['prognosis']==1]"
   ]
  },
  {
   "cell_type": "code",
   "execution_count": 19,
   "id": "e876c382",
   "metadata": {},
   "outputs": [
    {
     "data": {
      "text/html": [
       "<div>\n",
       "<style scoped>\n",
       "    .dataframe tbody tr th:only-of-type {\n",
       "        vertical-align: middle;\n",
       "    }\n",
       "\n",
       "    .dataframe tbody tr th {\n",
       "        vertical-align: top;\n",
       "    }\n",
       "\n",
       "    .dataframe thead th {\n",
       "        text-align: right;\n",
       "    }\n",
       "</style>\n",
       "<table border=\"1\" class=\"dataframe\">\n",
       "  <thead>\n",
       "    <tr style=\"text-align: right;\">\n",
       "      <th></th>\n",
       "      <th>age</th>\n",
       "      <th>systolic_bp</th>\n",
       "      <th>diastolic_bp</th>\n",
       "      <th>cholesterol</th>\n",
       "      <th>prognosis</th>\n",
       "    </tr>\n",
       "    <tr>\n",
       "      <th>ID</th>\n",
       "      <th></th>\n",
       "      <th></th>\n",
       "      <th></th>\n",
       "      <th></th>\n",
       "      <th></th>\n",
       "    </tr>\n",
       "  </thead>\n",
       "  <tbody>\n",
       "    <tr>\n",
       "      <th>12</th>\n",
       "      <td>66</td>\n",
       "      <td>93.205124</td>\n",
       "      <td>85.270310</td>\n",
       "      <td>106.465128</td>\n",
       "      <td>0</td>\n",
       "    </tr>\n",
       "    <tr>\n",
       "      <th>15</th>\n",
       "      <td>62</td>\n",
       "      <td>101.524942</td>\n",
       "      <td>95.684936</td>\n",
       "      <td>102.916473</td>\n",
       "      <td>0</td>\n",
       "    </tr>\n",
       "    <tr>\n",
       "      <th>16</th>\n",
       "      <td>74</td>\n",
       "      <td>91.245927</td>\n",
       "      <td>78.204968</td>\n",
       "      <td>99.417104</td>\n",
       "      <td>0</td>\n",
       "    </tr>\n",
       "    <tr>\n",
       "      <th>17</th>\n",
       "      <td>58</td>\n",
       "      <td>101.259314</td>\n",
       "      <td>86.790774</td>\n",
       "      <td>102.242965</td>\n",
       "      <td>0</td>\n",
       "    </tr>\n",
       "    <tr>\n",
       "      <th>18</th>\n",
       "      <td>62</td>\n",
       "      <td>89.883434</td>\n",
       "      <td>80.923457</td>\n",
       "      <td>102.083878</td>\n",
       "      <td>0</td>\n",
       "    </tr>\n",
       "    <tr>\n",
       "      <th>...</th>\n",
       "      <td>...</td>\n",
       "      <td>...</td>\n",
       "      <td>...</td>\n",
       "      <td>...</td>\n",
       "      <td>...</td>\n",
       "    </tr>\n",
       "    <tr>\n",
       "      <th>5989</th>\n",
       "      <td>66</td>\n",
       "      <td>95.931085</td>\n",
       "      <td>97.187327</td>\n",
       "      <td>112.075571</td>\n",
       "      <td>0</td>\n",
       "    </tr>\n",
       "    <tr>\n",
       "      <th>5993</th>\n",
       "      <td>53</td>\n",
       "      <td>88.726857</td>\n",
       "      <td>78.845703</td>\n",
       "      <td>86.271988</td>\n",
       "      <td>0</td>\n",
       "    </tr>\n",
       "    <tr>\n",
       "      <th>5994</th>\n",
       "      <td>56</td>\n",
       "      <td>105.062208</td>\n",
       "      <td>91.448914</td>\n",
       "      <td>111.989797</td>\n",
       "      <td>0</td>\n",
       "    </tr>\n",
       "    <tr>\n",
       "      <th>5995</th>\n",
       "      <td>49</td>\n",
       "      <td>94.857639</td>\n",
       "      <td>86.615671</td>\n",
       "      <td>107.643986</td>\n",
       "      <td>0</td>\n",
       "    </tr>\n",
       "    <tr>\n",
       "      <th>5999</th>\n",
       "      <td>62</td>\n",
       "      <td>96.900784</td>\n",
       "      <td>86.878033</td>\n",
       "      <td>108.625436</td>\n",
       "      <td>0</td>\n",
       "    </tr>\n",
       "  </tbody>\n",
       "</table>\n",
       "<p>2913 rows × 5 columns</p>\n",
       "</div>"
      ],
      "text/plain": [
       "      age  systolic_bp  diastolic_bp  cholesterol  prognosis\n",
       "ID                                                          \n",
       "12     66    93.205124     85.270310   106.465128          0\n",
       "15     62   101.524942     95.684936   102.916473          0\n",
       "16     74    91.245927     78.204968    99.417104          0\n",
       "17     58   101.259314     86.790774   102.242965          0\n",
       "18     62    89.883434     80.923457   102.083878          0\n",
       "...   ...          ...           ...          ...        ...\n",
       "5989   66    95.931085     97.187327   112.075571          0\n",
       "5993   53    88.726857     78.845703    86.271988          0\n",
       "5994   56   105.062208     91.448914   111.989797          0\n",
       "5995   49    94.857639     86.615671   107.643986          0\n",
       "5999   62    96.900784     86.878033   108.625436          0\n",
       "\n",
       "[2913 rows x 5 columns]"
      ]
     },
     "execution_count": 19,
     "metadata": {},
     "output_type": "execute_result"
    }
   ],
   "source": [
    "d_data[d_data['prognosis']==0]"
   ]
  },
  {
   "cell_type": "code",
   "execution_count": 20,
   "id": "d22b43d8",
   "metadata": {},
   "outputs": [
    {
     "data": {
      "text/plain": [
       "age               int32\n",
       "systolic_bp     float64\n",
       "diastolic_bp    float64\n",
       "cholesterol     float64\n",
       "prognosis         int64\n",
       "dtype: object"
      ]
     },
     "execution_count": 20,
     "metadata": {},
     "output_type": "execute_result"
    }
   ],
   "source": [
    "d_data.dtypes"
   ]
  },
  {
   "cell_type": "markdown",
   "id": "e710007e",
   "metadata": {},
   "source": [
    "## Outliers detection:\n",
    "\n",
    "for this we have 3 techniques which are as follows\n",
    "1) boxplot which is nothing but the so called IQR technique\n",
    "2) dbscan clustering\n",
    "3) isolation forest\n",
    "\n",
    "note: this techniques are used only for detecting and to see the range of the outliers. \n",
    "we will use box plot and the isolation forest for this "
   ]
  },
  {
   "cell_type": "code",
   "execution_count": 21,
   "id": "9c3df25e",
   "metadata": {},
   "outputs": [],
   "source": [
    "plt.style.use('ggplot')"
   ]
  },
  {
   "cell_type": "markdown",
   "id": "0319ddf9",
   "metadata": {},
   "source": [
    "#### Boxplot"
   ]
  },
  {
   "cell_type": "code",
   "execution_count": 22,
   "id": "caecf206",
   "metadata": {},
   "outputs": [
    {
     "data": {
      "image/png": "[encoded data removed]",
      "text/plain": [
       "<Figure size 720x576 with 4 Axes>"
      ]
     },
     "metadata": {},
     "output_type": "display_data"
    }
   ],
   "source": [
    "continous_list = ['age', 'systolic_bp', 'diastolic_bp','cholesterol']\n",
    "plt.figure(figsize=(10,8))\n",
    "\n",
    "plt.subplot(2,2,1)\n",
    "sns.boxplot(y = d_data['age'],color='darkturquoise')\n",
    "plt.title('boxplot for age')\n",
    "\n",
    "plt.subplot(2,2,2)\n",
    "sns.boxplot(y = d_data['systolic_bp'],color='tomato')\n",
    "plt.title('box plot for systolic_bp')\n",
    "\n",
    "plt.subplot(2,2,3)\n",
    "sns.boxplot(y = d_data['cholesterol'],color = 'lightblue')\n",
    "plt.title('boxplot for cholestrol')\n",
    "\n",
    "plt.subplot(2,2,4)\n",
    "sns.boxplot(y = d_data['diastolic_bp'],color = 'grey')\n",
    "plt.title('boxplt for diastolic_bp')\n",
    "\n",
    "plt.tight_layout(pad = 4)\n",
    "plt.show()"
   ]
  },
  {
   "cell_type": "markdown",
   "id": "5c1ef704",
   "metadata": {},
   "source": [
    "from the above boxplots we can see outliers are in all the continous columns we will treat them when we will be doing outlier treatment as per reqirement\n",
    "\n",
    "from the boxplots we can say\n",
    "1) in age column peoples more than age 80 are considered as outliers\n",
    "\n",
    "2) in systolic_bp peoples with more than 130 systolic_bp are considered as outliers\n",
    "\n",
    "3) in diastolis_bp peoples with more than 118 are considered as outliers\n",
    "\n",
    "4) in cholestrol peoples with more than 129 level are considered as outliers "
   ]
  },
  {
   "cell_type": "markdown",
   "id": "5cc6f17a",
   "metadata": {},
   "source": [
    "#### Isolation Forest:\n",
    "\n",
    "Bydefault isolation forest wil give -1 to the outliers and 1 to the normal datapoint"
   ]
  },
  {
   "cell_type": "code",
   "execution_count": 23,
   "id": "07b7b089",
   "metadata": {},
   "outputs": [],
   "source": [
    "from sklearn.ensemble import IsolationForest"
   ]
  },
  {
   "cell_type": "code",
   "execution_count": 24,
   "id": "8811b408",
   "metadata": {},
   "outputs": [
    {
     "data": {
      "text/plain": [
       "IsolationForest(contamination=0.01, random_state=10)"
      ]
     },
     "execution_count": 24,
     "metadata": {},
     "output_type": "execute_result"
    }
   ],
   "source": [
    "# instatiating an object\n",
    "i_model = IsolationForest(random_state=10,contamination=.01)\n",
    "i_model.fit(d_data) # fitting on the data "
   ]
  },
  {
   "cell_type": "code",
   "execution_count": 25,
   "id": "4958f2cb",
   "metadata": {},
   "outputs": [],
   "source": [
    "y_pred_outliers = i_model.predict(d_data) # predicting for the data"
   ]
  },
  {
   "cell_type": "code",
   "execution_count": 26,
   "id": "82c9c996",
   "metadata": {},
   "outputs": [
    {
     "data": {
      "text/plain": [
       "array([1, 1, 1, ..., 1, 1, 1])"
      ]
     },
     "execution_count": 26,
     "metadata": {},
     "output_type": "execute_result"
    }
   ],
   "source": [
    "y_pred_outliers"
   ]
  },
  {
   "cell_type": "code",
   "execution_count": 27,
   "id": "8f7b0957",
   "metadata": {},
   "outputs": [
    {
     "data": {
      "text/html": [
       "<div>\n",
       "<style scoped>\n",
       "    .dataframe tbody tr th:only-of-type {\n",
       "        vertical-align: middle;\n",
       "    }\n",
       "\n",
       "    .dataframe tbody tr th {\n",
       "        vertical-align: top;\n",
       "    }\n",
       "\n",
       "    .dataframe thead th {\n",
       "        text-align: right;\n",
       "    }\n",
       "</style>\n",
       "<table border=\"1\" class=\"dataframe\">\n",
       "  <thead>\n",
       "    <tr style=\"text-align: right;\">\n",
       "      <th></th>\n",
       "      <th>age</th>\n",
       "      <th>systolic_bp</th>\n",
       "      <th>diastolic_bp</th>\n",
       "      <th>cholesterol</th>\n",
       "      <th>prognosis</th>\n",
       "      <th>cluster_id</th>\n",
       "    </tr>\n",
       "    <tr>\n",
       "      <th>ID</th>\n",
       "      <th></th>\n",
       "      <th></th>\n",
       "      <th></th>\n",
       "      <th></th>\n",
       "      <th></th>\n",
       "      <th></th>\n",
       "    </tr>\n",
       "  </thead>\n",
       "  <tbody>\n",
       "    <tr>\n",
       "      <th>0</th>\n",
       "      <td>77</td>\n",
       "      <td>85.288742</td>\n",
       "      <td>80.021878</td>\n",
       "      <td>79.957109</td>\n",
       "      <td>1</td>\n",
       "      <td>1</td>\n",
       "    </tr>\n",
       "    <tr>\n",
       "      <th>1</th>\n",
       "      <td>63</td>\n",
       "      <td>99.379736</td>\n",
       "      <td>84.852361</td>\n",
       "      <td>110.382411</td>\n",
       "      <td>1</td>\n",
       "      <td>1</td>\n",
       "    </tr>\n",
       "    <tr>\n",
       "      <th>2</th>\n",
       "      <td>69</td>\n",
       "      <td>111.349455</td>\n",
       "      <td>109.850616</td>\n",
       "      <td>100.828246</td>\n",
       "      <td>1</td>\n",
       "      <td>1</td>\n",
       "    </tr>\n",
       "    <tr>\n",
       "      <th>3</th>\n",
       "      <td>82</td>\n",
       "      <td>95.056128</td>\n",
       "      <td>79.666851</td>\n",
       "      <td>87.066303</td>\n",
       "      <td>1</td>\n",
       "      <td>1</td>\n",
       "    </tr>\n",
       "    <tr>\n",
       "      <th>4</th>\n",
       "      <td>78</td>\n",
       "      <td>109.154591</td>\n",
       "      <td>90.713220</td>\n",
       "      <td>92.511770</td>\n",
       "      <td>1</td>\n",
       "      <td>1</td>\n",
       "    </tr>\n",
       "  </tbody>\n",
       "</table>\n",
       "</div>"
      ],
      "text/plain": [
       "    age  systolic_bp  diastolic_bp  cholesterol  prognosis  cluster_id\n",
       "ID                                                                    \n",
       "0    77    85.288742     80.021878    79.957109          1           1\n",
       "1    63    99.379736     84.852361   110.382411          1           1\n",
       "2    69   111.349455    109.850616   100.828246          1           1\n",
       "3    82    95.056128     79.666851    87.066303          1           1\n",
       "4    78   109.154591     90.713220    92.511770          1           1"
      ]
     },
     "execution_count": 27,
     "metadata": {},
     "output_type": "execute_result"
    }
   ],
   "source": [
    "d_data['cluster_id'] =  y_pred_outliers # adding the column to the orignal data which will show the anamoly and the normal data\n",
    "d_data.head()"
   ]
  },
  {
   "cell_type": "code",
   "execution_count": 28,
   "id": "b8ea54e3",
   "metadata": {},
   "outputs": [
    {
     "data": {
      "text/plain": [
       "age             60\n",
       "systolic_bp     60\n",
       "diastolic_bp    60\n",
       "cholesterol     60\n",
       "prognosis       60\n",
       "cluster_id      60\n",
       "dtype: int64"
      ]
     },
     "execution_count": 28,
     "metadata": {},
     "output_type": "execute_result"
    }
   ],
   "source": [
    "d_data[d_data['cluster_id']==-1].count()"
   ]
  },
  {
   "cell_type": "markdown",
   "id": "ad568741",
   "metadata": {},
   "source": [
    "from above observation we can say there are aprox 60 outliers are present in the data  "
   ]
  },
  {
   "cell_type": "markdown",
   "id": "491c8626",
   "metadata": {},
   "source": [
    "#### Now will see the distribution of the data and we will see the skewnesss of the data"
   ]
  },
  {
   "cell_type": "code",
   "execution_count": 29,
   "id": "8bec7009",
   "metadata": {},
   "outputs": [
    {
     "data": {
      "image/png": "[encoded data removed]",
      "text/plain": [
       "<Figure size 1296x648 with 4 Axes>"
      ]
     },
     "metadata": {},
     "output_type": "display_data"
    }
   ],
   "source": [
    "\n",
    "color_list = ['plum', 'cornflowerblue', 'mediumspringgreen','lightblue']\n",
    "plt.figure(figsize = (18, 9))\n",
    "plt.suptitle(\"Distribution Plots of continous features:\", fontsize=16)\n",
    "for i in range(0, len(continous_list)):\n",
    "    plt.subplot(2, 3, i+1)\n",
    "    sns.distplot(d_data[continous_list[i]], color = color_list[i])"
   ]
  },
  {
   "cell_type": "markdown",
   "id": "50c7db57",
   "metadata": {},
   "source": [
    "from above observations we can see the data is noramlly distributed hence no need to handel skewness also\n"
   ]
  },
  {
   "cell_type": "markdown",
   "id": "a5f8939f",
   "metadata": {},
   "source": [
    " Now we will check the skewness of the data it is not really needed because in above distribution plots we have seen our features are normaly distrubuted but as a part of EDA we will check once"
   ]
  },
  {
   "cell_type": "code",
   "execution_count": 30,
   "id": "457ec16c",
   "metadata": {},
   "outputs": [
    {
     "data": {
      "text/plain": [
       "age             0.441397\n",
       "systolic_bp     0.334655\n",
       "diastolic_bp    0.336555\n",
       "cholesterol     0.361514\n",
       "prognosis      -0.058039\n",
       "cluster_id     -9.851834\n",
       "dtype: float64"
      ]
     },
     "execution_count": 30,
     "metadata": {},
     "output_type": "execute_result"
    }
   ],
   "source": [
    "d_data.skew()"
   ]
  },
  {
   "cell_type": "markdown",
   "id": "942dc50d",
   "metadata": {},
   "source": [
    "from this observation we can see the data is not that skewed hence no need to do transformation on the data to remove skewness also"
   ]
  },
  {
   "cell_type": "markdown",
   "id": "82b13f13",
   "metadata": {},
   "source": [
    "### We can also plot Histogram for the same  "
   ]
  },
  {
   "cell_type": "code",
   "execution_count": 31,
   "id": "68d47d89",
   "metadata": {},
   "outputs": [
    {
     "data": {
      "image/png": "[encoded data removed]",
      "text/plain": [
       "<Figure size 1296x648 with 4 Axes>"
      ]
     },
     "metadata": {},
     "output_type": "display_data"
    }
   ],
   "source": [
    "color_list = ['plum', 'cornflowerblue', 'mediumspringgreen','lightblue']\n",
    "plt.figure(figsize = (18, 9))\n",
    "plt.suptitle(\"Histogram of continous features:\", fontsize=16)\n",
    "for i in range(0, len(continous_list)):\n",
    "    plt.subplot(2, 3, i+1)\n",
    "    sns.histplot(d_data[continous_list[i]], color = color_list[i])"
   ]
  },
  {
   "cell_type": "markdown",
   "id": "66d0aed4",
   "metadata": {},
   "source": [
    "so the only thing we get is most of the peoples come under the age criteria of 50 to 70 according to our survey\n",
    "\n",
    "there are some peoples with high systolic_bp they need instant medical treatment :XD\n",
    "\n"
   ]
  },
  {
   "cell_type": "code",
   "execution_count": 32,
   "id": "33078769",
   "metadata": {},
   "outputs": [
    {
     "data": {
      "text/html": [
       "<div>\n",
       "<style scoped>\n",
       "    .dataframe tbody tr th:only-of-type {\n",
       "        vertical-align: middle;\n",
       "    }\n",
       "\n",
       "    .dataframe tbody tr th {\n",
       "        vertical-align: top;\n",
       "    }\n",
       "\n",
       "    .dataframe thead th {\n",
       "        text-align: right;\n",
       "    }\n",
       "</style>\n",
       "<table border=\"1\" class=\"dataframe\">\n",
       "  <thead>\n",
       "    <tr style=\"text-align: right;\">\n",
       "      <th></th>\n",
       "      <th>age</th>\n",
       "      <th>systolic_bp</th>\n",
       "      <th>diastolic_bp</th>\n",
       "      <th>cholesterol</th>\n",
       "      <th>prognosis</th>\n",
       "      <th>cluster_id</th>\n",
       "    </tr>\n",
       "    <tr>\n",
       "      <th>ID</th>\n",
       "      <th></th>\n",
       "      <th></th>\n",
       "      <th></th>\n",
       "      <th></th>\n",
       "      <th></th>\n",
       "      <th></th>\n",
       "    </tr>\n",
       "  </thead>\n",
       "  <tbody>\n",
       "    <tr>\n",
       "      <th>0</th>\n",
       "      <td>77</td>\n",
       "      <td>85.288742</td>\n",
       "      <td>80.021878</td>\n",
       "      <td>79.957109</td>\n",
       "      <td>1</td>\n",
       "      <td>1</td>\n",
       "    </tr>\n",
       "    <tr>\n",
       "      <th>1</th>\n",
       "      <td>63</td>\n",
       "      <td>99.379736</td>\n",
       "      <td>84.852361</td>\n",
       "      <td>110.382411</td>\n",
       "      <td>1</td>\n",
       "      <td>1</td>\n",
       "    </tr>\n",
       "    <tr>\n",
       "      <th>2</th>\n",
       "      <td>69</td>\n",
       "      <td>111.349455</td>\n",
       "      <td>109.850616</td>\n",
       "      <td>100.828246</td>\n",
       "      <td>1</td>\n",
       "      <td>1</td>\n",
       "    </tr>\n",
       "    <tr>\n",
       "      <th>3</th>\n",
       "      <td>82</td>\n",
       "      <td>95.056128</td>\n",
       "      <td>79.666851</td>\n",
       "      <td>87.066303</td>\n",
       "      <td>1</td>\n",
       "      <td>1</td>\n",
       "    </tr>\n",
       "    <tr>\n",
       "      <th>4</th>\n",
       "      <td>78</td>\n",
       "      <td>109.154591</td>\n",
       "      <td>90.713220</td>\n",
       "      <td>92.511770</td>\n",
       "      <td>1</td>\n",
       "      <td>1</td>\n",
       "    </tr>\n",
       "    <tr>\n",
       "      <th>...</th>\n",
       "      <td>...</td>\n",
       "      <td>...</td>\n",
       "      <td>...</td>\n",
       "      <td>...</td>\n",
       "      <td>...</td>\n",
       "      <td>...</td>\n",
       "    </tr>\n",
       "    <tr>\n",
       "      <th>5991</th>\n",
       "      <td>59</td>\n",
       "      <td>105.516534</td>\n",
       "      <td>99.069641</td>\n",
       "      <td>108.177934</td>\n",
       "      <td>1</td>\n",
       "      <td>1</td>\n",
       "    </tr>\n",
       "    <tr>\n",
       "      <th>5992</th>\n",
       "      <td>72</td>\n",
       "      <td>115.105489</td>\n",
       "      <td>99.500383</td>\n",
       "      <td>126.590583</td>\n",
       "      <td>1</td>\n",
       "      <td>1</td>\n",
       "    </tr>\n",
       "    <tr>\n",
       "      <th>5996</th>\n",
       "      <td>63</td>\n",
       "      <td>100.039527</td>\n",
       "      <td>93.515186</td>\n",
       "      <td>104.971404</td>\n",
       "      <td>1</td>\n",
       "      <td>1</td>\n",
       "    </tr>\n",
       "    <tr>\n",
       "      <th>5997</th>\n",
       "      <td>55</td>\n",
       "      <td>98.421446</td>\n",
       "      <td>102.697875</td>\n",
       "      <td>120.875951</td>\n",
       "      <td>1</td>\n",
       "      <td>1</td>\n",
       "    </tr>\n",
       "    <tr>\n",
       "      <th>5998</th>\n",
       "      <td>63</td>\n",
       "      <td>106.809289</td>\n",
       "      <td>88.060631</td>\n",
       "      <td>106.052213</td>\n",
       "      <td>1</td>\n",
       "      <td>1</td>\n",
       "    </tr>\n",
       "  </tbody>\n",
       "</table>\n",
       "<p>3087 rows × 6 columns</p>\n",
       "</div>"
      ],
      "text/plain": [
       "      age  systolic_bp  diastolic_bp  cholesterol  prognosis  cluster_id\n",
       "ID                                                                      \n",
       "0      77    85.288742     80.021878    79.957109          1           1\n",
       "1      63    99.379736     84.852361   110.382411          1           1\n",
       "2      69   111.349455    109.850616   100.828246          1           1\n",
       "3      82    95.056128     79.666851    87.066303          1           1\n",
       "4      78   109.154591     90.713220    92.511770          1           1\n",
       "...   ...          ...           ...          ...        ...         ...\n",
       "5991   59   105.516534     99.069641   108.177934          1           1\n",
       "5992   72   115.105489     99.500383   126.590583          1           1\n",
       "5996   63   100.039527     93.515186   104.971404          1           1\n",
       "5997   55    98.421446    102.697875   120.875951          1           1\n",
       "5998   63   106.809289     88.060631   106.052213          1           1\n",
       "\n",
       "[3087 rows x 6 columns]"
      ]
     },
     "execution_count": 32,
     "metadata": {},
     "output_type": "execute_result"
    }
   ],
   "source": [
    "d_data[d_data['prognosis']==1]"
   ]
  },
  {
   "cell_type": "code",
   "execution_count": 33,
   "id": "5f629978",
   "metadata": {},
   "outputs": [
    {
     "data": {
      "text/html": [
       "<div>\n",
       "<style scoped>\n",
       "    .dataframe tbody tr th:only-of-type {\n",
       "        vertical-align: middle;\n",
       "    }\n",
       "\n",
       "    .dataframe tbody tr th {\n",
       "        vertical-align: top;\n",
       "    }\n",
       "\n",
       "    .dataframe thead th {\n",
       "        text-align: right;\n",
       "    }\n",
       "</style>\n",
       "<table border=\"1\" class=\"dataframe\">\n",
       "  <thead>\n",
       "    <tr style=\"text-align: right;\">\n",
       "      <th></th>\n",
       "      <th>age</th>\n",
       "      <th>systolic_bp</th>\n",
       "      <th>diastolic_bp</th>\n",
       "      <th>cholesterol</th>\n",
       "      <th>prognosis</th>\n",
       "      <th>cluster_id</th>\n",
       "    </tr>\n",
       "    <tr>\n",
       "      <th>ID</th>\n",
       "      <th></th>\n",
       "      <th></th>\n",
       "      <th></th>\n",
       "      <th></th>\n",
       "      <th></th>\n",
       "      <th></th>\n",
       "    </tr>\n",
       "  </thead>\n",
       "  <tbody>\n",
       "    <tr>\n",
       "      <th>0</th>\n",
       "      <td>77</td>\n",
       "      <td>85.288742</td>\n",
       "      <td>80.021878</td>\n",
       "      <td>79.957109</td>\n",
       "      <td>1</td>\n",
       "      <td>1</td>\n",
       "    </tr>\n",
       "    <tr>\n",
       "      <th>1</th>\n",
       "      <td>63</td>\n",
       "      <td>99.379736</td>\n",
       "      <td>84.852361</td>\n",
       "      <td>110.382411</td>\n",
       "      <td>1</td>\n",
       "      <td>1</td>\n",
       "    </tr>\n",
       "    <tr>\n",
       "      <th>2</th>\n",
       "      <td>69</td>\n",
       "      <td>111.349455</td>\n",
       "      <td>109.850616</td>\n",
       "      <td>100.828246</td>\n",
       "      <td>1</td>\n",
       "      <td>1</td>\n",
       "    </tr>\n",
       "    <tr>\n",
       "      <th>3</th>\n",
       "      <td>82</td>\n",
       "      <td>95.056128</td>\n",
       "      <td>79.666851</td>\n",
       "      <td>87.066303</td>\n",
       "      <td>1</td>\n",
       "      <td>1</td>\n",
       "    </tr>\n",
       "    <tr>\n",
       "      <th>4</th>\n",
       "      <td>78</td>\n",
       "      <td>109.154591</td>\n",
       "      <td>90.713220</td>\n",
       "      <td>92.511770</td>\n",
       "      <td>1</td>\n",
       "      <td>1</td>\n",
       "    </tr>\n",
       "    <tr>\n",
       "      <th>...</th>\n",
       "      <td>...</td>\n",
       "      <td>...</td>\n",
       "      <td>...</td>\n",
       "      <td>...</td>\n",
       "      <td>...</td>\n",
       "      <td>...</td>\n",
       "    </tr>\n",
       "    <tr>\n",
       "      <th>5991</th>\n",
       "      <td>59</td>\n",
       "      <td>105.516534</td>\n",
       "      <td>99.069641</td>\n",
       "      <td>108.177934</td>\n",
       "      <td>1</td>\n",
       "      <td>1</td>\n",
       "    </tr>\n",
       "    <tr>\n",
       "      <th>5992</th>\n",
       "      <td>72</td>\n",
       "      <td>115.105489</td>\n",
       "      <td>99.500383</td>\n",
       "      <td>126.590583</td>\n",
       "      <td>1</td>\n",
       "      <td>1</td>\n",
       "    </tr>\n",
       "    <tr>\n",
       "      <th>5996</th>\n",
       "      <td>63</td>\n",
       "      <td>100.039527</td>\n",
       "      <td>93.515186</td>\n",
       "      <td>104.971404</td>\n",
       "      <td>1</td>\n",
       "      <td>1</td>\n",
       "    </tr>\n",
       "    <tr>\n",
       "      <th>5997</th>\n",
       "      <td>55</td>\n",
       "      <td>98.421446</td>\n",
       "      <td>102.697875</td>\n",
       "      <td>120.875951</td>\n",
       "      <td>1</td>\n",
       "      <td>1</td>\n",
       "    </tr>\n",
       "    <tr>\n",
       "      <th>5998</th>\n",
       "      <td>63</td>\n",
       "      <td>106.809289</td>\n",
       "      <td>88.060631</td>\n",
       "      <td>106.052213</td>\n",
       "      <td>1</td>\n",
       "      <td>1</td>\n",
       "    </tr>\n",
       "  </tbody>\n",
       "</table>\n",
       "<p>2893 rows × 6 columns</p>\n",
       "</div>"
      ],
      "text/plain": [
       "      age  systolic_bp  diastolic_bp  cholesterol  prognosis  cluster_id\n",
       "ID                                                                      \n",
       "0      77    85.288742     80.021878    79.957109          1           1\n",
       "1      63    99.379736     84.852361   110.382411          1           1\n",
       "2      69   111.349455    109.850616   100.828246          1           1\n",
       "3      82    95.056128     79.666851    87.066303          1           1\n",
       "4      78   109.154591     90.713220    92.511770          1           1\n",
       "...   ...          ...           ...          ...        ...         ...\n",
       "5991   59   105.516534     99.069641   108.177934          1           1\n",
       "5992   72   115.105489     99.500383   126.590583          1           1\n",
       "5996   63   100.039527     93.515186   104.971404          1           1\n",
       "5997   55    98.421446    102.697875   120.875951          1           1\n",
       "5998   63   106.809289     88.060631   106.052213          1           1\n",
       "\n",
       "[2893 rows x 6 columns]"
      ]
     },
     "execution_count": 33,
     "metadata": {},
     "output_type": "execute_result"
    }
   ],
   "source": [
    "d_data[(d_data['age']>50)&(d_data['prognosis']==1)]"
   ]
  },
  {
   "cell_type": "markdown",
   "id": "02d5c9e7",
   "metadata": {},
   "source": [
    "According to our research retinopathy is mostly occured in peoples with age > 50 and our data also states the same \n",
    "\n",
    "peoples with the age > 50 has retinopathy as compared to peoples with age < 50"
   ]
  },
  {
   "cell_type": "code",
   "execution_count": null,
   "id": "434dc21d",
   "metadata": {},
   "outputs": [],
   "source": []
  },
  {
   "cell_type": "markdown",
   "id": "48ae087a",
   "metadata": {},
   "source": [
    "# Relation Between The Features"
   ]
  },
  {
   "cell_type": "code",
   "execution_count": 34,
   "id": "fff861ff",
   "metadata": {},
   "outputs": [
    {
     "data": {
      "text/plain": [
       "<AxesSubplot:xlabel='age', ylabel='systolic_bp'>"
      ]
     },
     "execution_count": 34,
     "metadata": {},
     "output_type": "execute_result"
    },
    {
     "data": {
      "image/png": "[encoded data removed]",
      "text/plain": [
       "<Figure size 432x288 with 1 Axes>"
      ]
     },
     "metadata": {},
     "output_type": "display_data"
    }
   ],
   "source": [
    "sns.scatterplot(d_data.age,d_data.systolic_bp,data=d_data,color='skyblue')"
   ]
  },
  {
   "cell_type": "markdown",
   "id": "28d7a4cc",
   "metadata": {},
   "source": [
    "here we can't see the relation ship nor negative nor positive "
   ]
  },
  {
   "cell_type": "code",
   "execution_count": 35,
   "id": "2597b8fc",
   "metadata": {},
   "outputs": [
    {
     "data": {
      "text/plain": [
       "<AxesSubplot:xlabel='age', ylabel='diastolic_bp'>"
      ]
     },
     "execution_count": 35,
     "metadata": {},
     "output_type": "execute_result"
    },
    {
     "data": {
      "image/png": "[encoded data removed]",
      "text/plain": [
       "<Figure size 432x288 with 1 Axes>"
      ]
     },
     "metadata": {},
     "output_type": "display_data"
    }
   ],
   "source": [
    "sns.scatterplot(d_data.age,d_data.diastolic_bp,data=d_data)"
   ]
  },
  {
   "cell_type": "markdown",
   "id": "723f1bf6",
   "metadata": {},
   "source": [
    "same no relation ship. we will see the numbers also when we will plot the the correlation"
   ]
  },
  {
   "cell_type": "code",
   "execution_count": 36,
   "id": "bc7719e0",
   "metadata": {
    "scrolled": true
   },
   "outputs": [
    {
     "data": {
      "text/plain": [
       "<AxesSubplot:>"
      ]
     },
     "execution_count": 36,
     "metadata": {},
     "output_type": "execute_result"
    },
    {
     "data": {
      "image/png": "[encoded data removed]",
      "text/plain": [
       "<Figure size 792x576 with 2 Axes>"
      ]
     },
     "metadata": {},
     "output_type": "display_data"
    }
   ],
   "source": [
    "plt.figure(figsize=(11,8))\n",
    "sns.heatmap(d_data.corr(),annot = True)"
   ]
  },
  {
   "cell_type": "code",
   "execution_count": 37,
   "id": "1731fc51",
   "metadata": {},
   "outputs": [
    {
     "data": {
      "text/plain": [
       "<seaborn.axisgrid.PairGrid at 0x280e54d0fd0>"
      ]
     },
     "execution_count": 37,
     "metadata": {},
     "output_type": "execute_result"
    },
    {
     "data": {
      "text/plain": [
       "<Figure size 1296x720 with 0 Axes>"
      ]
     },
     "metadata": {},
     "output_type": "display_data"
    },
    {
     "data": {
      "image/png": "[encoded data removed]",
      "text/plain": [
       "<Figure size 776.25x720 with 14 Axes>"
      ]
     },
     "metadata": {},
     "output_type": "display_data"
    }
   ],
   "source": [
    "plt.figure(figsize=(18,10))\n",
    "sns.pairplot(d_data.iloc[:,0:5],hue='prognosis',corner=1)"
   ]
  },
  {
   "cell_type": "markdown",
   "id": "27e91eea",
   "metadata": {},
   "source": [
    "## Speed Up The EDA"
   ]
  },
  {
   "cell_type": "code",
   "execution_count": 38,
   "id": "98a4846f",
   "metadata": {},
   "outputs": [],
   "source": [
    "import pandas_profiling as pp\n",
    "import sweetviz as sv"
   ]
  },
  {
   "cell_type": "code",
   "execution_count": 39,
   "id": "96709605",
   "metadata": {},
   "outputs": [
    {
     "data": {
      "application/vnd.jupyter.widget-view+json": {
       "model_id": "092748c5d2564e46b340d77ced4e7ec3",
       "version_major": 2,
       "version_minor": 0
      },
      "text/plain": [
       "Summarize dataset:   0%|          | 0/5 [00:00<?, ?it/s]"
      ]
     },
     "metadata": {},
     "output_type": "display_data"
    },
    {
     "data": {
      "application/vnd.jupyter.widget-view+json": {
       "model_id": "e9bae40ea4424b82b79172936ce09070",
       "version_major": 2,
       "version_minor": 0
      },
      "text/plain": [
       "Generate report structure:   0%|          | 0/1 [00:00<?, ?it/s]"
      ]
     },
     "metadata": {},
     "output_type": "display_data"
    },
    {
     "data": {
      "application/vnd.jupyter.widget-view+json": {
       "model_id": "c74dbd376ce54d0d813babb6b2df769b",
       "version_major": 2,
       "version_minor": 0
      },
      "text/plain": [
       "Render HTML:   0%|          | 0/1 [00:00<?, ?it/s]"
      ]
     },
     "metadata": {},
     "output_type": "display_data"
    },
    {
     "data": {
      "application/vnd.jupyter.widget-view+json": {
       "model_id": "96e574b7b7cc4475910b09f15a88d071",
       "version_major": 2,
       "version_minor": 0
      },
      "text/plain": [
       "Export report to file:   0%|          | 0/1 [00:00<?, ?it/s]"
      ]
     },
     "metadata": {},
     "output_type": "display_data"
    }
   ],
   "source": [
    "EDA_report= pp.ProfileReport(d_data)\n",
    "EDA_report.to_file(output_file='report.html')"
   ]
  },
  {
   "cell_type": "code",
   "execution_count": 40,
   "id": "2dd52f2c",
   "metadata": {},
   "outputs": [
    {
     "data": {
      "application/vnd.jupyter.widget-view+json": {
       "model_id": "07c3ac2f22b14718a8ff462d9d06ee75",
       "version_major": 2,
       "version_minor": 0
      },
      "text/plain": [
       "                                             |                                             | [  0%]   00:00 ->…"
      ]
     },
     "metadata": {},
     "output_type": "display_data"
    },
    {
     "name": "stdout",
     "output_type": "stream",
     "text": [
      "Report diabetic_report.html was generated! NOTEBOOK/COLAB USERS: the web browser MAY not pop up, regardless, the report IS saved in your notebook/colab files.\n"
     ]
    }
   ],
   "source": [
    "sweet_report = sv.analyze(data)\n",
    "sweet_report.show_html('diabetic_report.html')"
   ]
  },
  {
   "cell_type": "markdown",
   "id": "c77527ca",
   "metadata": {},
   "source": [
    "# Outlier Treatment:\n",
    "    we have few  techniques for outlier treatment which are as follows\n",
    "    1) IQR technique\n",
    "    2)z-score\n",
    " \n",
    "for the folowing problem we will be using the zscore"
   ]
  },
  {
   "cell_type": "code",
   "execution_count": 41,
   "id": "61ff002c",
   "metadata": {},
   "outputs": [],
   "source": [
    "from scipy.stats import zscore"
   ]
  },
  {
   "cell_type": "code",
   "execution_count": 42,
   "id": "3f7ae87c",
   "metadata": {},
   "outputs": [
    {
     "data": {
      "text/html": [
       "<div>\n",
       "<style scoped>\n",
       "    .dataframe tbody tr th:only-of-type {\n",
       "        vertical-align: middle;\n",
       "    }\n",
       "\n",
       "    .dataframe tbody tr th {\n",
       "        vertical-align: top;\n",
       "    }\n",
       "\n",
       "    .dataframe thead th {\n",
       "        text-align: right;\n",
       "    }\n",
       "</style>\n",
       "<table border=\"1\" class=\"dataframe\">\n",
       "  <thead>\n",
       "    <tr style=\"text-align: right;\">\n",
       "      <th></th>\n",
       "      <th>age</th>\n",
       "      <th>systolic_bp</th>\n",
       "      <th>diastolic_bp</th>\n",
       "      <th>cholesterol</th>\n",
       "      <th>prognosis</th>\n",
       "      <th>cluster_id</th>\n",
       "    </tr>\n",
       "    <tr>\n",
       "      <th>ID</th>\n",
       "      <th></th>\n",
       "      <th></th>\n",
       "      <th></th>\n",
       "      <th></th>\n",
       "      <th></th>\n",
       "      <th></th>\n",
       "    </tr>\n",
       "  </thead>\n",
       "  <tbody>\n",
       "    <tr>\n",
       "      <th>0</th>\n",
       "      <td>77</td>\n",
       "      <td>85.288742</td>\n",
       "      <td>80.021878</td>\n",
       "      <td>79.957109</td>\n",
       "      <td>1</td>\n",
       "      <td>1</td>\n",
       "    </tr>\n",
       "    <tr>\n",
       "      <th>1</th>\n",
       "      <td>63</td>\n",
       "      <td>99.379736</td>\n",
       "      <td>84.852361</td>\n",
       "      <td>110.382411</td>\n",
       "      <td>1</td>\n",
       "      <td>1</td>\n",
       "    </tr>\n",
       "    <tr>\n",
       "      <th>2</th>\n",
       "      <td>69</td>\n",
       "      <td>111.349455</td>\n",
       "      <td>109.850616</td>\n",
       "      <td>100.828246</td>\n",
       "      <td>1</td>\n",
       "      <td>1</td>\n",
       "    </tr>\n",
       "    <tr>\n",
       "      <th>3</th>\n",
       "      <td>82</td>\n",
       "      <td>95.056128</td>\n",
       "      <td>79.666851</td>\n",
       "      <td>87.066303</td>\n",
       "      <td>1</td>\n",
       "      <td>1</td>\n",
       "    </tr>\n",
       "    <tr>\n",
       "      <th>4</th>\n",
       "      <td>78</td>\n",
       "      <td>109.154591</td>\n",
       "      <td>90.713220</td>\n",
       "      <td>92.511770</td>\n",
       "      <td>1</td>\n",
       "      <td>1</td>\n",
       "    </tr>\n",
       "  </tbody>\n",
       "</table>\n",
       "</div>"
      ],
      "text/plain": [
       "    age  systolic_bp  diastolic_bp  cholesterol  prognosis  cluster_id\n",
       "ID                                                                    \n",
       "0    77    85.288742     80.021878    79.957109          1           1\n",
       "1    63    99.379736     84.852361   110.382411          1           1\n",
       "2    69   111.349455    109.850616   100.828246          1           1\n",
       "3    82    95.056128     79.666851    87.066303          1           1\n",
       "4    78   109.154591     90.713220    92.511770          1           1"
      ]
     },
     "execution_count": 42,
     "metadata": {},
     "output_type": "execute_result"
    }
   ],
   "source": [
    "d_data.head()"
   ]
  },
  {
   "cell_type": "code",
   "execution_count": 43,
   "id": "25504f03",
   "metadata": {},
   "outputs": [],
   "source": [
    "d_data = d_data.iloc[:,0:5]"
   ]
  },
  {
   "cell_type": "code",
   "execution_count": 44,
   "id": "ca17429e",
   "metadata": {},
   "outputs": [
    {
     "data": {
      "text/html": [
       "<div>\n",
       "<style scoped>\n",
       "    .dataframe tbody tr th:only-of-type {\n",
       "        vertical-align: middle;\n",
       "    }\n",
       "\n",
       "    .dataframe tbody tr th {\n",
       "        vertical-align: top;\n",
       "    }\n",
       "\n",
       "    .dataframe thead th {\n",
       "        text-align: right;\n",
       "    }\n",
       "</style>\n",
       "<table border=\"1\" class=\"dataframe\">\n",
       "  <thead>\n",
       "    <tr style=\"text-align: right;\">\n",
       "      <th></th>\n",
       "      <th>age</th>\n",
       "      <th>systolic_bp</th>\n",
       "      <th>diastolic_bp</th>\n",
       "      <th>cholesterol</th>\n",
       "      <th>prognosis</th>\n",
       "    </tr>\n",
       "    <tr>\n",
       "      <th>ID</th>\n",
       "      <th></th>\n",
       "      <th></th>\n",
       "      <th></th>\n",
       "      <th></th>\n",
       "      <th></th>\n",
       "    </tr>\n",
       "  </thead>\n",
       "  <tbody>\n",
       "    <tr>\n",
       "      <th>0</th>\n",
       "      <td>77</td>\n",
       "      <td>85.288742</td>\n",
       "      <td>80.021878</td>\n",
       "      <td>79.957109</td>\n",
       "      <td>1</td>\n",
       "    </tr>\n",
       "    <tr>\n",
       "      <th>1</th>\n",
       "      <td>63</td>\n",
       "      <td>99.379736</td>\n",
       "      <td>84.852361</td>\n",
       "      <td>110.382411</td>\n",
       "      <td>1</td>\n",
       "    </tr>\n",
       "    <tr>\n",
       "      <th>2</th>\n",
       "      <td>69</td>\n",
       "      <td>111.349455</td>\n",
       "      <td>109.850616</td>\n",
       "      <td>100.828246</td>\n",
       "      <td>1</td>\n",
       "    </tr>\n",
       "    <tr>\n",
       "      <th>3</th>\n",
       "      <td>82</td>\n",
       "      <td>95.056128</td>\n",
       "      <td>79.666851</td>\n",
       "      <td>87.066303</td>\n",
       "      <td>1</td>\n",
       "    </tr>\n",
       "    <tr>\n",
       "      <th>4</th>\n",
       "      <td>78</td>\n",
       "      <td>109.154591</td>\n",
       "      <td>90.713220</td>\n",
       "      <td>92.511770</td>\n",
       "      <td>1</td>\n",
       "    </tr>\n",
       "  </tbody>\n",
       "</table>\n",
       "</div>"
      ],
      "text/plain": [
       "    age  systolic_bp  diastolic_bp  cholesterol  prognosis\n",
       "ID                                                        \n",
       "0    77    85.288742     80.021878    79.957109          1\n",
       "1    63    99.379736     84.852361   110.382411          1\n",
       "2    69   111.349455    109.850616   100.828246          1\n",
       "3    82    95.056128     79.666851    87.066303          1\n",
       "4    78   109.154591     90.713220    92.511770          1"
      ]
     },
     "execution_count": 44,
     "metadata": {},
     "output_type": "execute_result"
    }
   ],
   "source": [
    "d_data.head()"
   ]
  },
  {
   "cell_type": "code",
   "execution_count": 45,
   "id": "9e5f017d",
   "metadata": {},
   "outputs": [],
   "source": [
    "zabs = np.abs(zscore(d_data.iloc[:,0:4]))"
   ]
  },
  {
   "cell_type": "code",
   "execution_count": 46,
   "id": "1d5170af",
   "metadata": {},
   "outputs": [
    {
     "data": {
      "text/plain": [
       "(2, 96)"
      ]
     },
     "execution_count": 46,
     "metadata": {},
     "output_type": "execute_result"
    }
   ],
   "source": [
    "np.shape(np.where(zabs>=3))"
   ]
  },
  {
   "cell_type": "code",
   "execution_count": 47,
   "id": "feb36232",
   "metadata": {},
   "outputs": [
    {
     "data": {
      "text/html": [
       "<div>\n",
       "<style scoped>\n",
       "    .dataframe tbody tr th:only-of-type {\n",
       "        vertical-align: middle;\n",
       "    }\n",
       "\n",
       "    .dataframe tbody tr th {\n",
       "        vertical-align: top;\n",
       "    }\n",
       "\n",
       "    .dataframe thead th {\n",
       "        text-align: right;\n",
       "    }\n",
       "</style>\n",
       "<table border=\"1\" class=\"dataframe\">\n",
       "  <thead>\n",
       "    <tr style=\"text-align: right;\">\n",
       "      <th></th>\n",
       "      <th>age</th>\n",
       "      <th>systolic_bp</th>\n",
       "      <th>diastolic_bp</th>\n",
       "      <th>cholesterol</th>\n",
       "      <th>prognosis</th>\n",
       "    </tr>\n",
       "    <tr>\n",
       "      <th>ID</th>\n",
       "      <th></th>\n",
       "      <th></th>\n",
       "      <th></th>\n",
       "      <th></th>\n",
       "      <th></th>\n",
       "    </tr>\n",
       "  </thead>\n",
       "  <tbody>\n",
       "    <tr>\n",
       "      <th>0</th>\n",
       "      <td>77</td>\n",
       "      <td>85.288742</td>\n",
       "      <td>80.021878</td>\n",
       "      <td>79.957109</td>\n",
       "      <td>1</td>\n",
       "    </tr>\n",
       "    <tr>\n",
       "      <th>1</th>\n",
       "      <td>63</td>\n",
       "      <td>99.379736</td>\n",
       "      <td>84.852361</td>\n",
       "      <td>110.382411</td>\n",
       "      <td>1</td>\n",
       "    </tr>\n",
       "    <tr>\n",
       "      <th>2</th>\n",
       "      <td>69</td>\n",
       "      <td>111.349455</td>\n",
       "      <td>109.850616</td>\n",
       "      <td>100.828246</td>\n",
       "      <td>1</td>\n",
       "    </tr>\n",
       "    <tr>\n",
       "      <th>3</th>\n",
       "      <td>82</td>\n",
       "      <td>95.056128</td>\n",
       "      <td>79.666851</td>\n",
       "      <td>87.066303</td>\n",
       "      <td>1</td>\n",
       "    </tr>\n",
       "    <tr>\n",
       "      <th>4</th>\n",
       "      <td>78</td>\n",
       "      <td>109.154591</td>\n",
       "      <td>90.713220</td>\n",
       "      <td>92.511770</td>\n",
       "      <td>1</td>\n",
       "    </tr>\n",
       "    <tr>\n",
       "      <th>5</th>\n",
       "      <td>52</td>\n",
       "      <td>121.080264</td>\n",
       "      <td>110.488129</td>\n",
       "      <td>115.468278</td>\n",
       "      <td>1</td>\n",
       "    </tr>\n",
       "    <tr>\n",
       "      <th>6</th>\n",
       "      <td>68</td>\n",
       "      <td>115.232289</td>\n",
       "      <td>92.730813</td>\n",
       "      <td>106.784960</td>\n",
       "      <td>1</td>\n",
       "    </tr>\n",
       "    <tr>\n",
       "      <th>7</th>\n",
       "      <td>58</td>\n",
       "      <td>98.653683</td>\n",
       "      <td>94.172130</td>\n",
       "      <td>100.829654</td>\n",
       "      <td>1</td>\n",
       "    </tr>\n",
       "    <tr>\n",
       "      <th>8</th>\n",
       "      <td>59</td>\n",
       "      <td>102.681371</td>\n",
       "      <td>96.991612</td>\n",
       "      <td>106.331045</td>\n",
       "      <td>1</td>\n",
       "    </tr>\n",
       "    <tr>\n",
       "      <th>9</th>\n",
       "      <td>63</td>\n",
       "      <td>96.341053</td>\n",
       "      <td>80.919213</td>\n",
       "      <td>121.558605</td>\n",
       "      <td>1</td>\n",
       "    </tr>\n",
       "  </tbody>\n",
       "</table>\n",
       "</div>"
      ],
      "text/plain": [
       "    age  systolic_bp  diastolic_bp  cholesterol  prognosis\n",
       "ID                                                        \n",
       "0    77    85.288742     80.021878    79.957109          1\n",
       "1    63    99.379736     84.852361   110.382411          1\n",
       "2    69   111.349455    109.850616   100.828246          1\n",
       "3    82    95.056128     79.666851    87.066303          1\n",
       "4    78   109.154591     90.713220    92.511770          1\n",
       "5    52   121.080264    110.488129   115.468278          1\n",
       "6    68   115.232289     92.730813   106.784960          1\n",
       "7    58    98.653683     94.172130   100.829654          1\n",
       "8    59   102.681371     96.991612   106.331045          1\n",
       "9    63    96.341053     80.919213   121.558605          1"
      ]
     },
     "execution_count": 47,
     "metadata": {},
     "output_type": "execute_result"
    }
   ],
   "source": [
    "data_new = d_data[(zabs<3).all(axis=1)]\n",
    "data_new.head(10)"
   ]
  },
  {
   "cell_type": "markdown",
   "id": "14fe2080",
   "metadata": {},
   "source": [
    "### After Removing Outliers 5906 observations are left"
   ]
  },
  {
   "cell_type": "markdown",
   "id": "752f2d78",
   "metadata": {},
   "source": [
    "# Feature Enginering :\n",
    "    although there are to less features in the dataset we need to consider them all but for the sake of the discussion we\n",
    "    will see the feature importance\n",
    "    \n",
    "    for this we have three methods which are as follows:\n",
    "    \n",
    "   1) univariate analysis\n",
    "   2) RFE(Recursive Feature Elimination)\n",
    "   3) Tree Based\n",
    "   \n",
    "   but the data we have is kind of no-linear so we will use tree based method"
   ]
  },
  {
   "cell_type": "code",
   "execution_count": 48,
   "id": "cf2252f3",
   "metadata": {},
   "outputs": [],
   "source": [
    "from sklearn.tree import DecisionTreeClassifier"
   ]
  },
  {
   "cell_type": "code",
   "execution_count": 49,
   "id": "25b5acde",
   "metadata": {},
   "outputs": [
    {
     "name": "stdout",
     "output_type": "stream",
     "text": [
      "[[ 77.          85.28874242  80.02187758  79.95710875   1.        ]\n",
      " [ 63.          99.37973582  84.85236069 110.3824105    1.        ]\n",
      " [ 69.         111.349455   109.8506158  100.8282456    1.        ]\n",
      " ...\n",
      " [ 55.          98.42144624 102.6978752  120.8759505    1.        ]\n",
      " [ 63.         106.8092889   88.06063097 106.0522127    1.        ]\n",
      " [ 62.          96.90078368  86.87803344 108.6254357    0.        ]]\n"
     ]
    }
   ],
   "source": [
    "array = data_new.values\n",
    "print(array)"
   ]
  },
  {
   "cell_type": "code",
   "execution_count": 50,
   "id": "d61b74a7",
   "metadata": {},
   "outputs": [],
   "source": [
    "x=array[:,0:4]\n",
    "y=array[:,4]"
   ]
  },
  {
   "cell_type": "code",
   "execution_count": 51,
   "id": "fdb187f6",
   "metadata": {},
   "outputs": [
    {
     "name": "stdout",
     "output_type": "stream",
     "text": [
      "[0.21391234 0.26951067 0.20377635 0.31280064]\n"
     ]
    }
   ],
   "source": [
    "model = DecisionTreeClassifier()\n",
    "model.fit(x,y)\n",
    "print(model.feature_importances_)"
   ]
  },
  {
   "cell_type": "code",
   "execution_count": 52,
   "id": "a9d32e6a",
   "metadata": {},
   "outputs": [
    {
     "data": {
      "text/plain": [
       "Index(['age', 'systolic_bp', 'diastolic_bp', 'cholesterol', 'prognosis'], dtype='object')"
      ]
     },
     "execution_count": 52,
     "metadata": {},
     "output_type": "execute_result"
    }
   ],
   "source": [
    "data_new.columns"
   ]
  },
  {
   "cell_type": "markdown",
   "id": "e4f8cfed",
   "metadata": {},
   "source": [
    "from above we can say the age feature feature is more important for predicting Y and the distolic_bp is less as compared to others"
   ]
  },
  {
   "cell_type": "markdown",
   "id": "a120ab06",
   "metadata": {},
   "source": [
    "# Data Imbalance:\n",
    "as we seen above data is not imbalanced but we will also visualize it"
   ]
  },
  {
   "cell_type": "code",
   "execution_count": 53,
   "id": "7d2575ca",
   "metadata": {
    "scrolled": true
   },
   "outputs": [
    {
     "data": {
      "image/png": "[encoded data removed]",
      "text/plain": [
       "<Figure size 800x400 with 1 Axes>"
      ]
     },
     "metadata": {},
     "output_type": "display_data"
    }
   ],
   "source": [
    "plt.figure(figsize = (8, 4))\n",
    "plt.title(\"Values distribution in target class: prognosis\")\n",
    "sns.countplot(data = data_new, x = 'prognosis')\n",
    "plt.show()"
   ]
  },
  {
   "cell_type": "markdown",
   "id": "5514dde5",
   "metadata": {},
   "source": [
    "# Feature Scaling :\n",
    "\n",
    "Some of the algotithm we are gonna use are based on the distances eventualy our data is not that sparse but if we scale the data it will not effect our accuracy\n",
    "\n",
    "for the same we have to methods :\n",
    "\n",
    "1) normalization\n",
    "2) standadization\n",
    "\n",
    "we will do normalization in this contex because the age and the level of bp cannot be in negative range "
   ]
  },
  {
   "cell_type": "code",
   "execution_count": 54,
   "id": "fdbcb600",
   "metadata": {},
   "outputs": [
    {
     "data": {
      "text/html": [
       "<div>\n",
       "<style scoped>\n",
       "    .dataframe tbody tr th:only-of-type {\n",
       "        vertical-align: middle;\n",
       "    }\n",
       "\n",
       "    .dataframe tbody tr th {\n",
       "        vertical-align: top;\n",
       "    }\n",
       "\n",
       "    .dataframe thead th {\n",
       "        text-align: right;\n",
       "    }\n",
       "</style>\n",
       "<table border=\"1\" class=\"dataframe\">\n",
       "  <thead>\n",
       "    <tr style=\"text-align: right;\">\n",
       "      <th></th>\n",
       "      <th>age</th>\n",
       "      <th>systolic_bp</th>\n",
       "      <th>diastolic_bp</th>\n",
       "      <th>cholesterol</th>\n",
       "      <th>prognosis</th>\n",
       "    </tr>\n",
       "    <tr>\n",
       "      <th>ID</th>\n",
       "      <th></th>\n",
       "      <th></th>\n",
       "      <th></th>\n",
       "      <th></th>\n",
       "      <th></th>\n",
       "    </tr>\n",
       "  </thead>\n",
       "  <tbody>\n",
       "    <tr>\n",
       "      <th>0</th>\n",
       "      <td>0.84</td>\n",
       "      <td>0.247808</td>\n",
       "      <td>0.304616</td>\n",
       "      <td>0.161881</td>\n",
       "      <td>1</td>\n",
       "    </tr>\n",
       "    <tr>\n",
       "      <th>1</th>\n",
       "      <td>0.56</td>\n",
       "      <td>0.471454</td>\n",
       "      <td>0.390091</td>\n",
       "      <td>0.654921</td>\n",
       "      <td>1</td>\n",
       "    </tr>\n",
       "    <tr>\n",
       "      <th>2</th>\n",
       "      <td>0.68</td>\n",
       "      <td>0.661433</td>\n",
       "      <td>0.832435</td>\n",
       "      <td>0.500096</td>\n",
       "      <td>1</td>\n",
       "    </tr>\n",
       "    <tr>\n",
       "      <th>3</th>\n",
       "      <td>0.94</td>\n",
       "      <td>0.402832</td>\n",
       "      <td>0.298333</td>\n",
       "      <td>0.277085</td>\n",
       "      <td>1</td>\n",
       "    </tr>\n",
       "    <tr>\n",
       "      <th>4</th>\n",
       "      <td>0.86</td>\n",
       "      <td>0.626597</td>\n",
       "      <td>0.493799</td>\n",
       "      <td>0.365329</td>\n",
       "      <td>1</td>\n",
       "    </tr>\n",
       "    <tr>\n",
       "      <th>...</th>\n",
       "      <td>...</td>\n",
       "      <td>...</td>\n",
       "      <td>...</td>\n",
       "      <td>...</td>\n",
       "      <td>...</td>\n",
       "    </tr>\n",
       "    <tr>\n",
       "      <th>5995</th>\n",
       "      <td>0.28</td>\n",
       "      <td>0.399682</td>\n",
       "      <td>0.421293</td>\n",
       "      <td>0.610545</td>\n",
       "      <td>0</td>\n",
       "    </tr>\n",
       "    <tr>\n",
       "      <th>5996</th>\n",
       "      <td>0.56</td>\n",
       "      <td>0.481926</td>\n",
       "      <td>0.543380</td>\n",
       "      <td>0.567236</td>\n",
       "      <td>1</td>\n",
       "    </tr>\n",
       "    <tr>\n",
       "      <th>5997</th>\n",
       "      <td>0.40</td>\n",
       "      <td>0.456245</td>\n",
       "      <td>0.705867</td>\n",
       "      <td>0.824968</td>\n",
       "      <td>1</td>\n",
       "    </tr>\n",
       "    <tr>\n",
       "      <th>5998</th>\n",
       "      <td>0.56</td>\n",
       "      <td>0.589373</td>\n",
       "      <td>0.446861</td>\n",
       "      <td>0.584750</td>\n",
       "      <td>1</td>\n",
       "    </tr>\n",
       "    <tr>\n",
       "      <th>5999</th>\n",
       "      <td>0.54</td>\n",
       "      <td>0.432109</td>\n",
       "      <td>0.425935</td>\n",
       "      <td>0.626449</td>\n",
       "      <td>0</td>\n",
       "    </tr>\n",
       "  </tbody>\n",
       "</table>\n",
       "<p>5906 rows × 5 columns</p>\n",
       "</div>"
      ],
      "text/plain": [
       "       age  systolic_bp  diastolic_bp  cholesterol  prognosis\n",
       "ID                                                           \n",
       "0     0.84     0.247808      0.304616     0.161881          1\n",
       "1     0.56     0.471454      0.390091     0.654921          1\n",
       "2     0.68     0.661433      0.832435     0.500096          1\n",
       "3     0.94     0.402832      0.298333     0.277085          1\n",
       "4     0.86     0.626597      0.493799     0.365329          1\n",
       "...    ...          ...           ...          ...        ...\n",
       "5995  0.28     0.399682      0.421293     0.610545          0\n",
       "5996  0.56     0.481926      0.543380     0.567236          1\n",
       "5997  0.40     0.456245      0.705867     0.824968          1\n",
       "5998  0.56     0.589373      0.446861     0.584750          1\n",
       "5999  0.54     0.432109      0.425935     0.626449          0\n",
       "\n",
       "[5906 rows x 5 columns]"
      ]
     },
     "execution_count": 54,
     "metadata": {},
     "output_type": "execute_result"
    }
   ],
   "source": [
    "from sklearn.preprocessing import MinMaxScaler \n",
    "\n",
    "scale = MinMaxScaler()\n",
    "data_new.loc[:,'age':'cholesterol'] = scale.fit_transform(data_new.loc[:,'age':'cholesterol'])\n",
    "data_new"
   ]
  },
  {
   "cell_type": "markdown",
   "id": "d7d09e84",
   "metadata": {},
   "source": [
    "# Model Building :\n",
    "\n",
    "###  we will create multiple models one by one then we will cross_validate one by one to avoid Overfiting and Underfiting.then will pick 2 algorithms with the best accuracy and improve accuracy of the particular algorithm using hyperparameter tuning"
   ]
  },
  {
   "cell_type": "markdown",
   "id": "3743708e",
   "metadata": {},
   "source": [
    "first we will split our data into Target and input variables"
   ]
  },
  {
   "cell_type": "code",
   "execution_count": 55,
   "id": "984a2566",
   "metadata": {},
   "outputs": [
    {
     "data": {
      "text/html": [
       "<div>\n",
       "<style scoped>\n",
       "    .dataframe tbody tr th:only-of-type {\n",
       "        vertical-align: middle;\n",
       "    }\n",
       "\n",
       "    .dataframe tbody tr th {\n",
       "        vertical-align: top;\n",
       "    }\n",
       "\n",
       "    .dataframe thead th {\n",
       "        text-align: right;\n",
       "    }\n",
       "</style>\n",
       "<table border=\"1\" class=\"dataframe\">\n",
       "  <thead>\n",
       "    <tr style=\"text-align: right;\">\n",
       "      <th></th>\n",
       "      <th>age</th>\n",
       "      <th>systolic_bp</th>\n",
       "      <th>diastolic_bp</th>\n",
       "      <th>cholesterol</th>\n",
       "      <th>prognosis</th>\n",
       "    </tr>\n",
       "    <tr>\n",
       "      <th>ID</th>\n",
       "      <th></th>\n",
       "      <th></th>\n",
       "      <th></th>\n",
       "      <th></th>\n",
       "      <th></th>\n",
       "    </tr>\n",
       "  </thead>\n",
       "  <tbody>\n",
       "    <tr>\n",
       "      <th>0</th>\n",
       "      <td>0.84</td>\n",
       "      <td>0.247808</td>\n",
       "      <td>0.304616</td>\n",
       "      <td>0.161881</td>\n",
       "      <td>1</td>\n",
       "    </tr>\n",
       "    <tr>\n",
       "      <th>1</th>\n",
       "      <td>0.56</td>\n",
       "      <td>0.471454</td>\n",
       "      <td>0.390091</td>\n",
       "      <td>0.654921</td>\n",
       "      <td>1</td>\n",
       "    </tr>\n",
       "    <tr>\n",
       "      <th>2</th>\n",
       "      <td>0.68</td>\n",
       "      <td>0.661433</td>\n",
       "      <td>0.832435</td>\n",
       "      <td>0.500096</td>\n",
       "      <td>1</td>\n",
       "    </tr>\n",
       "    <tr>\n",
       "      <th>3</th>\n",
       "      <td>0.94</td>\n",
       "      <td>0.402832</td>\n",
       "      <td>0.298333</td>\n",
       "      <td>0.277085</td>\n",
       "      <td>1</td>\n",
       "    </tr>\n",
       "    <tr>\n",
       "      <th>4</th>\n",
       "      <td>0.86</td>\n",
       "      <td>0.626597</td>\n",
       "      <td>0.493799</td>\n",
       "      <td>0.365329</td>\n",
       "      <td>1</td>\n",
       "    </tr>\n",
       "    <tr>\n",
       "      <th>...</th>\n",
       "      <td>...</td>\n",
       "      <td>...</td>\n",
       "      <td>...</td>\n",
       "      <td>...</td>\n",
       "      <td>...</td>\n",
       "    </tr>\n",
       "    <tr>\n",
       "      <th>5995</th>\n",
       "      <td>0.28</td>\n",
       "      <td>0.399682</td>\n",
       "      <td>0.421293</td>\n",
       "      <td>0.610545</td>\n",
       "      <td>0</td>\n",
       "    </tr>\n",
       "    <tr>\n",
       "      <th>5996</th>\n",
       "      <td>0.56</td>\n",
       "      <td>0.481926</td>\n",
       "      <td>0.543380</td>\n",
       "      <td>0.567236</td>\n",
       "      <td>1</td>\n",
       "    </tr>\n",
       "    <tr>\n",
       "      <th>5997</th>\n",
       "      <td>0.40</td>\n",
       "      <td>0.456245</td>\n",
       "      <td>0.705867</td>\n",
       "      <td>0.824968</td>\n",
       "      <td>1</td>\n",
       "    </tr>\n",
       "    <tr>\n",
       "      <th>5998</th>\n",
       "      <td>0.56</td>\n",
       "      <td>0.589373</td>\n",
       "      <td>0.446861</td>\n",
       "      <td>0.584750</td>\n",
       "      <td>1</td>\n",
       "    </tr>\n",
       "    <tr>\n",
       "      <th>5999</th>\n",
       "      <td>0.54</td>\n",
       "      <td>0.432109</td>\n",
       "      <td>0.425935</td>\n",
       "      <td>0.626449</td>\n",
       "      <td>0</td>\n",
       "    </tr>\n",
       "  </tbody>\n",
       "</table>\n",
       "<p>5906 rows × 5 columns</p>\n",
       "</div>"
      ],
      "text/plain": [
       "       age  systolic_bp  diastolic_bp  cholesterol  prognosis\n",
       "ID                                                           \n",
       "0     0.84     0.247808      0.304616     0.161881          1\n",
       "1     0.56     0.471454      0.390091     0.654921          1\n",
       "2     0.68     0.661433      0.832435     0.500096          1\n",
       "3     0.94     0.402832      0.298333     0.277085          1\n",
       "4     0.86     0.626597      0.493799     0.365329          1\n",
       "...    ...          ...           ...          ...        ...\n",
       "5995  0.28     0.399682      0.421293     0.610545          0\n",
       "5996  0.56     0.481926      0.543380     0.567236          1\n",
       "5997  0.40     0.456245      0.705867     0.824968          1\n",
       "5998  0.56     0.589373      0.446861     0.584750          1\n",
       "5999  0.54     0.432109      0.425935     0.626449          0\n",
       "\n",
       "[5906 rows x 5 columns]"
      ]
     },
     "execution_count": 55,
     "metadata": {},
     "output_type": "execute_result"
    }
   ],
   "source": [
    "data_new"
   ]
  },
  {
   "cell_type": "code",
   "execution_count": 56,
   "id": "08332d92",
   "metadata": {},
   "outputs": [],
   "source": [
    "final_data = data_new.values"
   ]
  },
  {
   "cell_type": "code",
   "execution_count": 57,
   "id": "b96b1cd8",
   "metadata": {},
   "outputs": [
    {
     "data": {
      "text/plain": [
       "array([[0.84      , 0.24780801, 0.30461553, 0.16188145, 1.        ],\n",
       "       [0.56      , 0.47145439, 0.39009097, 0.65492066, 1.        ],\n",
       "       [0.68      , 0.66143278, 0.83243528, 0.5000963 , 1.        ],\n",
       "       ...,\n",
       "       [0.4       , 0.45624481, 0.70586748, 0.8249675 , 1.        ],\n",
       "       [0.56      , 0.58937316, 0.44686134, 0.5847502 , 1.        ],\n",
       "       [0.54      , 0.43210949, 0.42593526, 0.62644904, 0.        ]])"
      ]
     },
     "execution_count": 57,
     "metadata": {},
     "output_type": "execute_result"
    }
   ],
   "source": [
    "final_data"
   ]
  },
  {
   "cell_type": "code",
   "execution_count": 58,
   "id": "704e9fe8",
   "metadata": {},
   "outputs": [
    {
     "name": "stdout",
     "output_type": "stream",
     "text": [
      "(5906, 4) (5906,)\n"
     ]
    }
   ],
   "source": [
    "X=final_data[:,0:4]\n",
    "Y=final_data[:,4]\n",
    "print(X.shape,Y.shape)"
   ]
  },
  {
   "cell_type": "code",
   "execution_count": 59,
   "id": "8afa147a",
   "metadata": {},
   "outputs": [
    {
     "name": "stdout",
     "output_type": "stream",
     "text": [
      "Best Random State is 53, 76.12866817155756\n"
     ]
    }
   ],
   "source": [
    "from sklearn.linear_model import LogisticRegression\n",
    "from sklearn.metrics import accuracy_score\n",
    "from sklearn.model_selection import train_test_split\n",
    "\n",
    "max_accuracy = 0\n",
    "best_rs = 0\n",
    "for i in range(1, 150):\n",
    "    x_train, x_test, y_train, y_test = train_test_split(X, Y, test_size = 0.30, random_state = i)\n",
    "    lg = LogisticRegression()\n",
    "    lg.fit(x_train, y_train)\n",
    "    pred = lg.predict(x_test)\n",
    "    acc = accuracy_score(y_test, pred)\n",
    "    if acc > max_accuracy: # after each iteration, acc is replace by the best possible accuracy\n",
    "        max_accuracy = acc\n",
    "        best_rs = i\n",
    "print(f\"Best Random State is {best_rs}, {max_accuracy*100}\")"
   ]
  },
  {
   "cell_type": "markdown",
   "id": "ae46278b",
   "metadata": {},
   "source": [
    "Best possible Random State is 53 we will use it to split the data"
   ]
  },
  {
   "cell_type": "code",
   "execution_count": 60,
   "id": "4f24d8c3",
   "metadata": {},
   "outputs": [
    {
     "name": "stdout",
     "output_type": "stream",
     "text": [
      "(4134, 4) (4134,) (1772, 4) (1772,)\n"
     ]
    }
   ],
   "source": [
    "x_train,x_test,y_train,y_test = train_test_split(X,Y,test_size=0.30,random_state=53)\n",
    "print(x_train.shape,y_train.shape,x_test.shape,y_test.shape)"
   ]
  },
  {
   "cell_type": "code",
   "execution_count": 61,
   "id": "2e85d5ea",
   "metadata": {},
   "outputs": [],
   "source": [
    "from sklearn.linear_model import LogisticRegression\n",
    "from sklearn.tree import DecisionTreeClassifier\n",
    "from sklearn.svm import SVC\n",
    "from sklearn.naive_bayes import GaussianNB\n",
    "from sklearn.ensemble import RandomForestClassifier\n",
    "from xgboost import XGBClassifier\n",
    "from sklearn.model_selection import train_test_split,cross_val_score\n",
    "from sklearn.neighbors import KNeighborsClassifier\n",
    "from sklearn.ensemble import AdaBoostClassifier\n",
    "from sklearn.naive_bayes import MultinomialNB"
   ]
  },
  {
   "cell_type": "markdown",
   "id": "f8ec2617",
   "metadata": {},
   "source": [
    "first we will create the models with default parameters and also cross_validate the score using crossvalidation"
   ]
  },
  {
   "cell_type": "code",
   "execution_count": 62,
   "id": "e4a8e179",
   "metadata": {},
   "outputs": [],
   "source": [
    "from sklearn import metrics\n",
    "acc = []\n",
    "model = []"
   ]
  },
  {
   "cell_type": "markdown",
   "id": "8f7803f2",
   "metadata": {},
   "source": [
    "### Logistic Regression:\n"
   ]
  },
  {
   "cell_type": "code",
   "execution_count": 63,
   "id": "2d8eb5db",
   "metadata": {},
   "outputs": [
    {
     "name": "stdout",
     "output_type": "stream",
     "text": [
      "Accuracy Score of Logistic Regression model is 76.12866817155756\n",
      "[0.72758037 0.75296108 0.78341794 0.7394247  0.72588832 0.74111675\n",
      " 0.74915254 0.73050847 0.75084746 0.73559322]\n",
      "Mean of accuracy scores is for Logistic Regression is 74.3649086581204\n",
      "\n"
     ]
    }
   ],
   "source": [
    "lg = LogisticRegression()\n",
    "\n",
    "lg.fit(x_train, y_train)\n",
    "\n",
    "pred_lg = lg.predict(x_test)\n",
    "\n",
    "print(\"Accuracy Score of Logistic Regression model is\", accuracy_score(y_test, pred_lg)*100)\n",
    "\n",
    "lg_scores = cross_val_score(lg, X, Y, cv = 10)# cross validating the model\n",
    "print(lg_scores)\n",
    "# accuracy scores of each cross validation cycle\n",
    "print(f\"Mean of accuracy scores is for Logistic Regression is {lg_scores.mean()*100}\\n\")\n",
    "\n",
    "x = metrics.accuracy_score(y_test, pred_lg)\n",
    "acc.append(x)\n",
    "model.append('lg')"
   ]
  },
  {
   "cell_type": "markdown",
   "id": "14689445",
   "metadata": {},
   "source": [
    "### DecisionTreeClassifier"
   ]
  },
  {
   "cell_type": "code",
   "execution_count": 64,
   "id": "1edf4d5e",
   "metadata": {},
   "outputs": [
    {
     "name": "stdout",
     "output_type": "stream",
     "text": [
      "Accuracy Score of Decision Tree Classifier model is 66.7607223476298\n",
      "[0.63282572 0.66835871 0.65989848 0.66497462 0.65143824 0.66497462\n",
      " 0.67288136 0.63220339 0.6779661  0.69322034]\n",
      "Mean of accuracy scores is for Decision Tree Classifier is 66.18741575611575\n",
      "\n"
     ]
    }
   ],
   "source": [
    "dtc = DecisionTreeClassifier()\n",
    "\n",
    "dtc.fit(x_train, y_train)\n",
    "\n",
    "pred_dtc = dtc.predict(x_test)\n",
    "\n",
    "print(\"Accuracy Score of Decision Tree Classifier model is\", accuracy_score(y_test, pred_dtc)*100)\n",
    "\n",
    "dtc_scores = cross_val_score(dtc, X, Y, cv = 10)\n",
    "print(dtc_scores)\n",
    "print(f\"Mean of accuracy scores is for Decision Tree Classifier is {dtc_scores.mean()*100}\\n\")\n",
    "\n",
    "x = metrics.accuracy_score(y_test, pred_dtc)\n",
    "acc.append(x)\n",
    "model.append('dtc')"
   ]
  },
  {
   "cell_type": "markdown",
   "id": "7831a739",
   "metadata": {},
   "source": [
    "### KNN Algorithm"
   ]
  },
  {
   "cell_type": "code",
   "execution_count": 65,
   "id": "4fb7e073",
   "metadata": {},
   "outputs": [
    {
     "name": "stdout",
     "output_type": "stream",
     "text": [
      "Accuracy Score of K-Nearest Neighbour Classifier model is 72.686230248307\n",
      "[0.69035533 0.71742809 0.73773266 0.71573604 0.70389171 0.73265651\n",
      " 0.70847458 0.72033898 0.71186441 0.72372881]\n",
      "Mean of accuracy scores is for KNN Classifier is 71.62207118070492\n",
      "\n"
     ]
    }
   ],
   "source": [
    "knc = KNeighborsClassifier(n_neighbors = 5)\n",
    "\n",
    "knc.fit(x_train, y_train)\n",
    "\n",
    "pred_knc = knc.predict(x_test)\n",
    "\n",
    "print(\"Accuracy Score of K-Nearest Neighbour Classifier model is\", accuracy_score(y_test, pred_knc)*100)\n",
    "\n",
    "knc_scores = cross_val_score(knc, X, Y, cv = 10)\n",
    "print(knc_scores)\n",
    "print(f\"Mean of accuracy scores is for KNN Classifier is {knc_scores.mean()*100}\\n\")\n",
    "\n",
    "x = metrics.accuracy_score(y_test, pred_knc)\n",
    "acc.append(x)\n",
    "model.append('knc')"
   ]
  },
  {
   "cell_type": "markdown",
   "id": "45bd498f",
   "metadata": {},
   "source": [
    "### SVC"
   ]
  },
  {
   "cell_type": "code",
   "execution_count": 66,
   "id": "b4faba87",
   "metadata": {},
   "outputs": [
    {
     "name": "stdout",
     "output_type": "stream",
     "text": [
      "Accuracy Score of Support Vector Classifier model is 76.52370203160271\n",
      "[0.71235195 0.75972927 0.76818951 0.75296108 0.72419628 0.75972927\n",
      " 0.75084746 0.73898305 0.75084746 0.74745763]\n",
      "Mean of accuracy scores for SVC Classifier is 74.6529295362643\n",
      "\n"
     ]
    }
   ],
   "source": [
    "svc = SVC(kernel = 'rbf')\n",
    "svc.fit(x_train, y_train)\n",
    "pred_svc = svc.predict(x_test)\n",
    "print(\"Accuracy Score of Support Vector Classifier model is\", accuracy_score(y_test, pred_svc)*100)\n",
    "\n",
    "svc_scores = cross_val_score(svc, X, Y, cv = 10)\n",
    "print(svc_scores)\n",
    "print(f\"Mean of accuracy scores for SVC Classifier is {svc_scores.mean()*100}\\n\")\n",
    "\n",
    "x = metrics.accuracy_score(y_test, pred_svc)\n",
    "acc.append(x)\n",
    "model.append('svc')"
   ]
  },
  {
   "cell_type": "code",
   "execution_count": 67,
   "id": "25ed4cf7",
   "metadata": {},
   "outputs": [
    {
     "name": "stdout",
     "output_type": "stream",
     "text": [
      "[[644 232]\n",
      " [184 712]]\n"
     ]
    }
   ],
   "source": [
    "from sklearn.metrics import confusion_matrix\n",
    "confusion_matrix = confusion_matrix(y_test,pred_svc)\n",
    "print (confusion_matrix)"
   ]
  },
  {
   "cell_type": "code",
   "execution_count": 68,
   "id": "f0847617",
   "metadata": {},
   "outputs": [
    {
     "data": {
      "text/plain": [
       "array([1.])"
      ]
     },
     "execution_count": 68,
     "metadata": {},
     "output_type": "execute_result"
    }
   ],
   "source": [
    "svc.predict([[66,94.857639,86.615671,107.643986]])"
   ]
  },
  {
   "cell_type": "code",
   "execution_count": 69,
   "id": "33d89357",
   "metadata": {},
   "outputs": [],
   "source": [
    "y_pred_df = pd.DataFrame({'actual': y_test,\n",
    "                         'predicted_prob': pred_svc})"
   ]
  },
  {
   "cell_type": "code",
   "execution_count": 70,
   "id": "7d0f09c6",
   "metadata": {},
   "outputs": [
    {
     "data": {
      "text/html": [
       "<div>\n",
       "<style scoped>\n",
       "    .dataframe tbody tr th:only-of-type {\n",
       "        vertical-align: middle;\n",
       "    }\n",
       "\n",
       "    .dataframe tbody tr th {\n",
       "        vertical-align: top;\n",
       "    }\n",
       "\n",
       "    .dataframe thead th {\n",
       "        text-align: right;\n",
       "    }\n",
       "</style>\n",
       "<table border=\"1\" class=\"dataframe\">\n",
       "  <thead>\n",
       "    <tr style=\"text-align: right;\">\n",
       "      <th></th>\n",
       "      <th>actual</th>\n",
       "      <th>predicted_prob</th>\n",
       "    </tr>\n",
       "  </thead>\n",
       "  <tbody>\n",
       "    <tr>\n",
       "      <th>0</th>\n",
       "      <td>1.0</td>\n",
       "      <td>1.0</td>\n",
       "    </tr>\n",
       "    <tr>\n",
       "      <th>1</th>\n",
       "      <td>0.0</td>\n",
       "      <td>0.0</td>\n",
       "    </tr>\n",
       "    <tr>\n",
       "      <th>2</th>\n",
       "      <td>1.0</td>\n",
       "      <td>1.0</td>\n",
       "    </tr>\n",
       "    <tr>\n",
       "      <th>3</th>\n",
       "      <td>1.0</td>\n",
       "      <td>1.0</td>\n",
       "    </tr>\n",
       "    <tr>\n",
       "      <th>4</th>\n",
       "      <td>1.0</td>\n",
       "      <td>1.0</td>\n",
       "    </tr>\n",
       "    <tr>\n",
       "      <th>...</th>\n",
       "      <td>...</td>\n",
       "      <td>...</td>\n",
       "    </tr>\n",
       "    <tr>\n",
       "      <th>1767</th>\n",
       "      <td>1.0</td>\n",
       "      <td>1.0</td>\n",
       "    </tr>\n",
       "    <tr>\n",
       "      <th>1768</th>\n",
       "      <td>0.0</td>\n",
       "      <td>0.0</td>\n",
       "    </tr>\n",
       "    <tr>\n",
       "      <th>1769</th>\n",
       "      <td>1.0</td>\n",
       "      <td>1.0</td>\n",
       "    </tr>\n",
       "    <tr>\n",
       "      <th>1770</th>\n",
       "      <td>0.0</td>\n",
       "      <td>0.0</td>\n",
       "    </tr>\n",
       "    <tr>\n",
       "      <th>1771</th>\n",
       "      <td>1.0</td>\n",
       "      <td>1.0</td>\n",
       "    </tr>\n",
       "  </tbody>\n",
       "</table>\n",
       "<p>1772 rows × 2 columns</p>\n",
       "</div>"
      ],
      "text/plain": [
       "      actual  predicted_prob\n",
       "0        1.0             1.0\n",
       "1        0.0             0.0\n",
       "2        1.0             1.0\n",
       "3        1.0             1.0\n",
       "4        1.0             1.0\n",
       "...      ...             ...\n",
       "1767     1.0             1.0\n",
       "1768     0.0             0.0\n",
       "1769     1.0             1.0\n",
       "1770     0.0             0.0\n",
       "1771     1.0             1.0\n",
       "\n",
       "[1772 rows x 2 columns]"
      ]
     },
     "execution_count": 70,
     "metadata": {},
     "output_type": "execute_result"
    }
   ],
   "source": [
    "y_pred_df.sort_index()"
   ]
  },
  {
   "cell_type": "code",
   "execution_count": 71,
   "id": "f6b7e499",
   "metadata": {},
   "outputs": [],
   "source": [
    "import pickle\n",
    "\n",
    "pickle_out = open('classifire.pkl',\"wb\")\n",
    "pickle.dump(svc,pickle_out)\n",
    "pickle_out.close()"
   ]
  },
  {
   "cell_type": "markdown",
   "id": "44b0402d",
   "metadata": {},
   "source": [
    "### Random Forest"
   ]
  },
  {
   "cell_type": "code",
   "execution_count": 72,
   "id": "92bd66c8",
   "metadata": {},
   "outputs": [
    {
     "name": "stdout",
     "output_type": "stream",
     "text": [
      "Accuracy Score of Random Forest model is 73.47629796839729\n",
      "[0.70050761 0.73096447 0.74111675 0.73265651 0.74619289 0.74450085\n",
      " 0.72542373 0.72372881 0.73559322 0.75423729]\n",
      "Mean of accuracy scores for Random Forest Classifier is 73.34922137141875\n",
      "\n"
     ]
    }
   ],
   "source": [
    "rfc = RandomForestClassifier()\n",
    "\n",
    "rfc.fit(x_train, y_train)\n",
    "\n",
    "pred_rfc = rfc.predict(x_test)\n",
    "\n",
    "print(\"Accuracy Score of Random Forest model is\", accuracy_score(y_test, pred_rfc)*100)\n",
    "\n",
    "rfc_scores = cross_val_score(rfc, X, Y, cv = 10)\n",
    "print(rfc_scores)\n",
    "print(f\"Mean of accuracy scores for Random Forest Classifier is {rfc_scores.mean()*100}\\n\")\n",
    "\n",
    "x = metrics.accuracy_score(y_test, pred_rfc)\n",
    "acc.append(x)\n",
    "model.append('rfc')"
   ]
  },
  {
   "cell_type": "markdown",
   "id": "daca077b",
   "metadata": {},
   "source": [
    "### MultinominalNB"
   ]
  },
  {
   "cell_type": "code",
   "execution_count": 73,
   "id": "aab7bc3b",
   "metadata": {},
   "outputs": [
    {
     "name": "stdout",
     "output_type": "stream",
     "text": [
      "Accuracy Score of MultinomialNB model is 50.56433408577878\n",
      "[0.50761421 0.50930626 0.50930626 0.51269036 0.51269036 0.50592217\n",
      " 0.51186441 0.51016949 0.51186441 0.50847458]\n",
      "Mean of accuracy scores for MultinomialNB is 50.999024921850356\n",
      "\n"
     ]
    }
   ],
   "source": [
    "nb = MultinomialNB()\n",
    "\n",
    "nb.fit(x_train, y_train)\n",
    "\n",
    "pred_nb = nb.predict(x_test)\n",
    "\n",
    "print(\"Accuracy Score of MultinomialNB model is\", accuracy_score(y_test, pred_nb)*100)\n",
    "\n",
    "nb_scores = cross_val_score(nb, X, Y, cv = 10)\n",
    "print(nb_scores)\n",
    "print(f\"Mean of accuracy scores for MultinomialNB is {nb_scores.mean()*100}\\n\")\n",
    "\n",
    "x = metrics.accuracy_score(y_test, pred_nb)\n",
    "acc.append(x)\n",
    "model.append('nb')"
   ]
  },
  {
   "cell_type": "markdown",
   "id": "4f755081",
   "metadata": {},
   "source": [
    "### GaussianNB"
   ]
  },
  {
   "cell_type": "code",
   "execution_count": 74,
   "id": "6480404c",
   "metadata": {},
   "outputs": [
    {
     "name": "stdout",
     "output_type": "stream",
     "text": [
      "Accuracy of GaussianNB model is 74.4920993227991\n",
      "[0.50761421 0.50930626 0.50930626 0.51269036 0.51269036 0.50592217\n",
      " 0.51186441 0.51016949 0.51186441 0.50847458]\n",
      "Mean of accureacy score for GaussianNB is 73.38306231896527\n",
      "\n"
     ]
    }
   ],
   "source": [
    "gb = GaussianNB()\n",
    "\n",
    "gb.fit(x_train,y_train)\n",
    "\n",
    "pred_gb = gb.predict(x_test)\n",
    "\n",
    "print(\"Accuracy of GaussianNB model is\",accuracy_score(y_test,pred_gb)*100)\n",
    "\n",
    "gb_scores = cross_val_score(gb,X,Y,cv = 10)\n",
    "print(nb_scores)\n",
    "print(f\"Mean of accureacy score for GaussianNB is {gb_scores.mean()*100}\\n\")\n",
    "\n",
    "x = metrics.accuracy_score(y_test, pred_gb)\n",
    "acc.append(x)\n",
    "model.append('gb')"
   ]
  },
  {
   "cell_type": "markdown",
   "id": "39dc6b3c",
   "metadata": {},
   "source": [
    "### Adaboost Classifire"
   ]
  },
  {
   "cell_type": "code",
   "execution_count": 75,
   "id": "7d34be86",
   "metadata": {},
   "outputs": [
    {
     "name": "stdout",
     "output_type": "stream",
     "text": [
      "Accuracy Score of ADA Boost model is 74.2663656884876\n",
      "[0.71573604 0.74957699 0.74450085 0.73434856 0.70219966 0.74957699\n",
      " 0.72033898 0.73220339 0.74915254 0.72033898]\n",
      "Mean of accureacy score for GaussianNB is 73.17972984599501\n",
      "\n"
     ]
    }
   ],
   "source": [
    "ada= AdaBoostClassifier()\n",
    "\n",
    "ada.fit(x_train, y_train)\n",
    "\n",
    "pred_ada = ada.predict(x_test)\n",
    "\n",
    "print(\"Accuracy Score of ADA Boost model is\", accuracy_score(y_test, pred_ada)*100)\n",
    "\n",
    "ada_scores = cross_val_score(ada,X,Y,cv=10)\n",
    "print(ada_scores)\n",
    "print(f\"Mean of accureacy score for GaussianNB is {ada_scores.mean()*100}\\n\")\n",
    "\n",
    "x = metrics.accuracy_score(y_test, pred_ada)\n",
    "acc.append(x)\n",
    "model.append('ada')"
   ]
  },
  {
   "cell_type": "markdown",
   "id": "45d0c35e",
   "metadata": {},
   "source": [
    "### Xgboost "
   ]
  },
  {
   "cell_type": "code",
   "execution_count": 76,
   "id": "9054b51c",
   "metadata": {},
   "outputs": [
    {
     "name": "stdout",
     "output_type": "stream",
     "text": [
      "Accuracy Score of Xgboost model is 73.58916478555305\n",
      "[0.68866328 0.72081218 0.72081218 0.73604061 0.72081218 0.72758037\n",
      " 0.71864407 0.71355932 0.74915254 0.73728814]\n",
      "Mean of accuracy score for Xgboost is 72.33364879979352\n",
      "\n"
     ]
    }
   ],
   "source": [
    "xb = XGBClassifier()\n",
    "\n",
    "xb.fit(x_train,y_train)\n",
    "\n",
    "pred_xb = xb.predict(x_test)\n",
    "\n",
    "print(\"Accuracy Score of Xgboost model is\", accuracy_score(y_test, pred_xb)*100)\n",
    "\n",
    "xb_score = cross_val_score(xb,X,Y,cv=10)\n",
    "print(xb_score)\n",
    "print(f\"Mean of accuracy score for Xgboost is {xb_score.mean()*100}\\n\")\n",
    "\n",
    "x = metrics.accuracy_score(y_test, pred_xb)\n",
    "acc.append(x)\n",
    "model.append('xb')"
   ]
  },
  {
   "cell_type": "markdown",
   "id": "45108456",
   "metadata": {},
   "source": [
    "### Accuracy Comparison"
   ]
  },
  {
   "cell_type": "code",
   "execution_count": 77,
   "id": "4accbdb6",
   "metadata": {},
   "outputs": [
    {
     "data": {
      "text/plain": [
       "<AxesSubplot:title={'center':'Accuracy Comparision'}, xlabel='Accuracy', ylabel='Algorithm'>"
      ]
     },
     "execution_count": 77,
     "metadata": {},
     "output_type": "execute_result"
    },
    {
     "data": {
      "image/png": "[encoded data removed]",
      "text/plain": [
       "<Figure size 1000x800 with 1 Axes>"
      ]
     },
     "metadata": {},
     "output_type": "display_data"
    }
   ],
   "source": [
    "plt.figure(figsize=(10,8))\n",
    "plt.title(\"Accuracy Comparision\")\n",
    "plt.xlabel(\"Accuracy\")\n",
    "plt.ylabel(\"Algorithm\")\n",
    "sns.barplot(x=acc,y=model)"
   ]
  },
  {
   "cell_type": "code",
   "execution_count": 78,
   "id": "19f93362",
   "metadata": {},
   "outputs": [
    {
     "name": "stdout",
     "output_type": "stream",
     "text": [
      "lg --> 0.7612866817155757\n",
      "dtc --> 0.667607223476298\n",
      "knc --> 0.7268623024830699\n",
      "svc --> 0.7652370203160271\n",
      "rfc --> 0.7347629796839729\n",
      "nb --> 0.5056433408577878\n",
      "gb --> 0.744920993227991\n",
      "ada --> 0.7426636568848759\n",
      "xb --> 0.7358916478555305\n"
     ]
    }
   ],
   "source": [
    "accuracy_models = dict(zip(model, acc))\n",
    "for k, v in accuracy_models.items():\n",
    "    print (k, '-->', v)"
   ]
  },
  {
   "cell_type": "code",
   "execution_count": 79,
   "id": "002e3252",
   "metadata": {},
   "outputs": [
    {
     "name": "stdout",
     "output_type": "stream",
     "text": [
      "Logistic Regression 1.763759513437165\n",
      "Decision Tree Classifier 0.5733065915140401\n",
      "KNeighbors Classifier 1.064159067602077\n",
      "SVC 1.8707724953384144\n",
      "Random Forest Classifier 0.12707659697854012\n",
      "MultinomialNB -0.43469083607157444\n",
      "Gaussian NB 1.1090370038338335\n",
      "ADA Boost Classifier 1.0866358424925835\n",
      "Xgb 1.25551598575953\n"
     ]
    }
   ],
   "source": [
    "# Checking for difference between accuracy and mean accuracies.\n",
    "lis3 = ['Logistic Regression','Decision Tree Classifier','KNeighbors Classifier','SVC', 'Random Forest Classifier', \n",
    "        'MultinomialNB','Gaussian NB','ADA Boost Classifier','Xgb']\n",
    "\n",
    "lis1 = [accuracy_score(y_test, pred_lg)*100, accuracy_score(y_test, pred_dtc)*100, accuracy_score(y_test, pred_knc)*100, \n",
    "        accuracy_score(y_test, pred_svc)*100, accuracy_score(y_test, pred_rfc)*100, accuracy_score(y_test, pred_nb)*100,\n",
    "        accuracy_score(y_test,pred_gb)*100,accuracy_score(y_test, pred_ada)*100,accuracy_score(y_test,pred_xb)*100]\n",
    "\n",
    "lis2 = [lg_scores.mean()*100, dtc_scores.mean()*100, knc_scores.mean()*100, svc_scores.mean()*100, rfc_scores.mean()*100, \n",
    "        nb_scores.mean()*100,gb_scores.mean()*100,ada_scores.mean()*100,xb_score.mean()*100]\n",
    "\n",
    "for i in range(0, 9):\n",
    "    dif = (lis1[i]) - (lis2[i])\n",
    "    print(lis3[i], dif)"
   ]
  },
  {
   "cell_type": "markdown",
   "id": "37244817",
   "metadata": {},
   "source": [
    "#### we get most accuracy from logistic and suport vector machine,we will do the hyper parameter tuning on the same to imrove performance"
   ]
  },
  {
   "cell_type": "markdown",
   "id": "85d1a60d",
   "metadata": {},
   "source": [
    "## Hyper Parameter Tuning"
   ]
  },
  {
   "cell_type": "markdown",
   "id": "75371a0f",
   "metadata": {},
   "source": [
    "#### SVC"
   ]
  },
  {
   "cell_type": "code",
   "execution_count": null,
   "id": "bd583af6",
   "metadata": {},
   "outputs": [],
   "source": [
    "from sklearn.model_selection import GridSearchCV\n",
    "\n",
    "clf = SVC()\n",
    "param_grid = [{'kernel':['rbf','linear','poly'],'gamma':[50,5,10,0.5],'C':[12,10,0.1,0.001]}]\n",
    "gsv = GridSearchCV(clf,param_grid,cv=5)\n",
    "gsv.fit(x_train,y_train)"
   ]
  },
  {
   "cell_type": "markdown",
   "id": "7c5e3a91",
   "metadata": {},
   "source": [
    "#### Logistic Regresion"
   ]
  },
  {
   "cell_type": "code",
   "execution_count": null,
   "id": "2390d3ed",
   "metadata": {},
   "outputs": [],
   "source": []
  }
 ],
 "metadata": {
  "kernelspec": {
   "display_name": "Python 3 (ipykernel)",
   "language": "python",
   "name": "python3"
  },
  "language_info": {
   "codemirror_mode": {
    "name": "ipython",
    "version": 3
   },
   "file_extension": ".py",
   "mimetype": "text/x-python",
   "name": "python",
   "nbconvert_exporter": "python",
   "pygments_lexer": "ipython3",
   "version": "3.9.7"
  }
 },
 "nbformat": 4,
 "nbformat_minor": 5
}
